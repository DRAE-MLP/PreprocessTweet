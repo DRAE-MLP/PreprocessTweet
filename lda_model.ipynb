{
 "metadata": {
  "language_info": {
   "codemirror_mode": {
    "name": "ipython",
    "version": 3
   },
   "file_extension": ".py",
   "mimetype": "text/x-python",
   "name": "python",
   "nbconvert_exporter": "python",
   "pygments_lexer": "ipython3",
   "version": "3.7.6-final"
  },
  "orig_nbformat": 2,
  "kernelspec": {
   "name": "python3",
   "display_name": "Python 3",
   "language": "python"
  }
 },
 "nbformat": 4,
 "nbformat_minor": 2,
 "cells": [
  {
   "source": [
    "## LDA model of negative tweets"
   ],
   "cell_type": "markdown",
   "metadata": {}
  },
  {
   "cell_type": "code",
   "execution_count": 1,
   "metadata": {},
   "outputs": [],
   "source": [
    "import pandas as pd\n",
    "\n",
    "\n",
    "# NLP \n",
    "\n",
    "from wordcloud import WordCloud"
   ]
  },
  {
   "source": [
    "#Import Data\n",
    "tweets = pd.read_csv(\"/Volumes/GoogleDrive/Shared drives/Unidad Compartida Pachitos/Data Science Projects Pachitos/HackOff-CompanySentiments/archive (2)/Tweets.csv\")\n",
    "tweets.drop(['tweet_id','airline_sentiment_confidence','negativereason','negativereason_confidence','airline_sentiment_gold','name','negativereason_gold','retweet_count',\n",
    "'tweet_coord','tweet_created','tweet_location','user_timezone','airline'], axis = 1, inplace = True)\n",
    "tweets = tweets.rename(columns = {'airline_sentiment':'flag'})"
   ],
   "cell_type": "code",
   "metadata": {},
   "execution_count": 2,
   "outputs": []
  },
  {
   "cell_type": "code",
   "execution_count": 3,
   "metadata": {},
   "outputs": [
    {
     "output_type": "execute_result",
     "data": {
      "text/plain": [
       "           flag                                               text\n",
       "3      negative  @VirginAmerica it's really aggressive to blast...\n",
       "4      negative  @VirginAmerica and it's a really big bad thing...\n",
       "5      negative  @VirginAmerica seriously would pay $30 a fligh...\n",
       "15     negative      @VirginAmerica SFO-PDX schedule is still MIA.\n",
       "17     negative  @VirginAmerica  I flew from NYC to SFO last we...\n",
       "...         ...                                                ...\n",
       "14631  negative  @AmericanAir thx for nothing on getting us out...\n",
       "14633  negative  @AmericanAir my flight was Cancelled Flightled...\n",
       "14634  negative         @AmericanAir right on cue with the delays👌\n",
       "14636  negative  @AmericanAir leaving over 20 minutes Late Flig...\n",
       "14638  negative  @AmericanAir you have my money, you change my ...\n",
       "\n",
       "[9178 rows x 2 columns]"
      ],
      "text/html": "<div>\n<style scoped>\n    .dataframe tbody tr th:only-of-type {\n        vertical-align: middle;\n    }\n\n    .dataframe tbody tr th {\n        vertical-align: top;\n    }\n\n    .dataframe thead th {\n        text-align: right;\n    }\n</style>\n<table border=\"1\" class=\"dataframe\">\n  <thead>\n    <tr style=\"text-align: right;\">\n      <th></th>\n      <th>flag</th>\n      <th>text</th>\n    </tr>\n  </thead>\n  <tbody>\n    <tr>\n      <th>3</th>\n      <td>negative</td>\n      <td>@VirginAmerica it's really aggressive to blast...</td>\n    </tr>\n    <tr>\n      <th>4</th>\n      <td>negative</td>\n      <td>@VirginAmerica and it's a really big bad thing...</td>\n    </tr>\n    <tr>\n      <th>5</th>\n      <td>negative</td>\n      <td>@VirginAmerica seriously would pay $30 a fligh...</td>\n    </tr>\n    <tr>\n      <th>15</th>\n      <td>negative</td>\n      <td>@VirginAmerica SFO-PDX schedule is still MIA.</td>\n    </tr>\n    <tr>\n      <th>17</th>\n      <td>negative</td>\n      <td>@VirginAmerica  I flew from NYC to SFO last we...</td>\n    </tr>\n    <tr>\n      <th>...</th>\n      <td>...</td>\n      <td>...</td>\n    </tr>\n    <tr>\n      <th>14631</th>\n      <td>negative</td>\n      <td>@AmericanAir thx for nothing on getting us out...</td>\n    </tr>\n    <tr>\n      <th>14633</th>\n      <td>negative</td>\n      <td>@AmericanAir my flight was Cancelled Flightled...</td>\n    </tr>\n    <tr>\n      <th>14634</th>\n      <td>negative</td>\n      <td>@AmericanAir right on cue with the delays👌</td>\n    </tr>\n    <tr>\n      <th>14636</th>\n      <td>negative</td>\n      <td>@AmericanAir leaving over 20 minutes Late Flig...</td>\n    </tr>\n    <tr>\n      <th>14638</th>\n      <td>negative</td>\n      <td>@AmericanAir you have my money, you change my ...</td>\n    </tr>\n  </tbody>\n</table>\n<p>9178 rows × 2 columns</p>\n</div>"
     },
     "metadata": {},
     "execution_count": 3
    }
   ],
   "source": [
    "# Only take negative tweets\n",
    "neg = tweets[tweets.flag == 'negative']\n",
    "neg"
   ]
  },
  {
   "cell_type": "code",
   "execution_count": 4,
   "metadata": {},
   "outputs": [
    {
     "output_type": "error",
     "ename": "NameError",
     "evalue": "name 'plt' is not defined",
     "traceback": [
      "\u001b[0;31m---------------------------------------------------------------------------\u001b[0m",
      "\u001b[0;31mNameError\u001b[0m                                 Traceback (most recent call last)",
      "\u001b[0;32m<ipython-input-4-65ce4c9a98e8>\u001b[0m in \u001b[0;36m<module>\u001b[0;34m\u001b[0m\n\u001b[1;32m      9\u001b[0m \u001b[0mdepression_words\u001b[0m \u001b[0;34m=\u001b[0m \u001b[0;34m' '\u001b[0m\u001b[0;34m.\u001b[0m\u001b[0mjoin\u001b[0m\u001b[0;34m(\u001b[0m\u001b[0mlist\u001b[0m\u001b[0;34m(\u001b[0m\u001b[0mtweets\u001b[0m\u001b[0;34m[\u001b[0m\u001b[0mtweets\u001b[0m\u001b[0;34m[\u001b[0m\u001b[0;34m'flag'\u001b[0m\u001b[0;34m]\u001b[0m \u001b[0;34m==\u001b[0m \u001b[0;34m'negative'\u001b[0m\u001b[0;34m]\u001b[0m\u001b[0;34m[\u001b[0m\u001b[0;34m'text'\u001b[0m\u001b[0;34m]\u001b[0m\u001b[0;34m)\u001b[0m\u001b[0;34m)\u001b[0m\u001b[0;34m\u001b[0m\u001b[0;34m\u001b[0m\u001b[0m\n\u001b[1;32m     10\u001b[0m \u001b[0mdep_wc\u001b[0m \u001b[0;34m=\u001b[0m \u001b[0mWordCloud\u001b[0m\u001b[0;34m(\u001b[0m\u001b[0mstopwords\u001b[0m \u001b[0;34m=\u001b[0m \u001b[0mstopwords\u001b[0m\u001b[0;34m,\u001b[0m\u001b[0mwidth\u001b[0m \u001b[0;34m=\u001b[0m \u001b[0;36m512\u001b[0m\u001b[0;34m,\u001b[0m\u001b[0mheight\u001b[0m \u001b[0;34m=\u001b[0m \u001b[0;36m512\u001b[0m\u001b[0;34m,\u001b[0m \u001b[0mcollocations\u001b[0m\u001b[0;34m=\u001b[0m\u001b[0;32mFalse\u001b[0m\u001b[0;34m,\u001b[0m \u001b[0mcolormap\u001b[0m\u001b[0;34m=\u001b[0m\u001b[0;34m\"coolwarm\"\u001b[0m\u001b[0;34m)\u001b[0m\u001b[0;34m.\u001b[0m\u001b[0mgenerate\u001b[0m\u001b[0;34m(\u001b[0m\u001b[0mdepression_words\u001b[0m\u001b[0;34m)\u001b[0m\u001b[0;34m\u001b[0m\u001b[0;34m\u001b[0m\u001b[0m\n\u001b[0;32m---> 11\u001b[0;31m \u001b[0mplt\u001b[0m\u001b[0;34m.\u001b[0m\u001b[0mfigure\u001b[0m\u001b[0;34m(\u001b[0m\u001b[0mfigsize\u001b[0m \u001b[0;34m=\u001b[0m \u001b[0;34m(\u001b[0m\u001b[0;36m10\u001b[0m\u001b[0;34m,\u001b[0m \u001b[0;36m8\u001b[0m\u001b[0;34m)\u001b[0m\u001b[0;34m,\u001b[0m \u001b[0mfacecolor\u001b[0m \u001b[0;34m=\u001b[0m \u001b[0;34m'k'\u001b[0m\u001b[0;34m)\u001b[0m\u001b[0;34m\u001b[0m\u001b[0;34m\u001b[0m\u001b[0m\n\u001b[0m\u001b[1;32m     12\u001b[0m \u001b[0mplt\u001b[0m\u001b[0;34m.\u001b[0m\u001b[0mimshow\u001b[0m\u001b[0;34m(\u001b[0m\u001b[0mdep_wc\u001b[0m\u001b[0;34m)\u001b[0m\u001b[0;34m\u001b[0m\u001b[0;34m\u001b[0m\u001b[0m\n\u001b[1;32m     13\u001b[0m \u001b[0mplt\u001b[0m\u001b[0;34m.\u001b[0m\u001b[0maxis\u001b[0m\u001b[0;34m(\u001b[0m\u001b[0;34m'off'\u001b[0m\u001b[0;34m)\u001b[0m\u001b[0;34m\u001b[0m\u001b[0;34m\u001b[0m\u001b[0m\n",
      "\u001b[0;31mNameError\u001b[0m: name 'plt' is not defined"
     ]
    }
   ],
   "source": [
    "from wordcloud import STOPWORDS , WordCloud\n",
    "stopwords = set(STOPWORDS)\n",
    "stopwords.update([\"american\", \"air\",\"airline\",\"thank\",\"united\",\"us\",\"airways\",\"virgin\",\"america\",\"jetblue\",\n",
    "        \"usairway\",\"usairways\",\"flight\",\"americanair\",\"southwestair\",\"southwestairlines\",\n",
    "        \"southwestairway\",\"southwestairways\",\"virginamerica\",\"really\",\"will\",\"going\",\"thanks\",\"thankyou\",\n",
    "        \"please\",\"got\",\"let\",\"take\",\"help\",\"already\",\"never\",\"now\",\"told\",\"guy\",\"new\",\"sure\",\"still\",\"amp\",\n",
    "        \"plane\",\"tell\",\"ye\",\"trying\",\"yes\"])\n",
    "\n",
    "depression_words = ' '.join(list(tweets[tweets['flag'] == 'negative']['text']))\n",
    "dep_wc = WordCloud(stopwords = stopwords,width = 512,height = 512, collocations=False, colormap=\"coolwarm\").generate(depression_words)\n",
    "plt.figure(figsize = (10, 8), facecolor = 'k')\n",
    "plt.imshow(dep_wc)\n",
    "plt.axis('off')\n",
    "plt.tight_layout(pad = 0)\n",
    "plt.show()"
   ]
  },
  {
   "cell_type": "code",
   "execution_count": null,
   "metadata": {},
   "outputs": [],
   "source": [
    "#!pip install wordcloud\n",
    "\n",
    "# Preprocessing\n",
    "import nltk # Python library for NLP\n",
    "import matplotlib.pyplot as plt            # library for visualization\n",
    "import random                              # pseudo-random number generator\n",
    "import re                                  # library for regular expression operations\n",
    "import string                              # for string operations\n",
    "from nltk.corpus import stopwords          # module for stop words that come with NLTK\n",
    "from nltk.stem import PorterStemmer, SnowballStemmer    # module for stemming\n",
    "from nltk.tokenize import TweetTokenizer   # module for tokenizing strings\n",
    "from nltk.tokenize import sent_tokenize, word_tokenize\n",
    "from nltk.stem import WordNetLemmatizer \n",
    "#nltk.download('stopwords')\n",
    "#nltk.download('wordnet')\n",
    "#classification\n",
    "from sklearn.feature_extraction.text import TfidfVectorizer, CountVectorizer\n",
    "from sklearn import model_selection\n",
    "from sklearn import feature_extraction\n",
    "from collections import Counter\n",
    "from nltk.util import ngrams\n",
    "#nltk.download('punkt')"
   ]
  },
  {
   "cell_type": "code",
   "execution_count": null,
   "metadata": {},
   "outputs": [],
   "source": [
    "class TweetClassify():\n",
    "\n",
    "    def __init__(self, tweets_df, column_name , stemm = False, lemm =True):\n",
    "        self.tweets_ = tweets_df\n",
    "        self.stemm_ = stemm\n",
    "        self.lemm_ = lemm\n",
    "        self.lemmatizer_ = WordNetLemmatizer()\n",
    "        self.vect_wc = feature_extraction.text.CountVectorizer(max_features = 10000, ngram_range=(1,2))\n",
    "        self.vect_tfidf = feature_extraction.text.TfidfVectorizer(max_features = 10000, ngram_range=(1,2))\n",
    "        self.stopwords_eng_ = nltk.corpus.stopwords.words('english')\n",
    "        self.preprocess(column_name)\n",
    "    def preprocess(self, column_name):\n",
    "        self.tweets_['tweets_clean'] = self.tweets_[column_name].apply(lambda x: self.clean_text(x, stemm= self.stemm_, lemm = self.lemm_ ,stop_words = self.stopwords_eng_))\n",
    "\n",
    "\n",
    "    def clean_text(self,observation,stemm , lemm , stop_words):\n",
    "        #Clean tweets (removing punctuations and converting everything to lowercase)\n",
    "        \n",
    "        observation = re.sub(r'[^\\$\\w\\s]', '', str(observation).lower().strip())\n",
    "        observation = re.sub(r'^RT[\\s]+', '', observation)\n",
    "        observation = re.sub(r'https?:\\/\\/.*[\\r\\n]*', '', observation) # removing hyperlinks\n",
    "        observation = re.sub(r'#', '', observation) #removing hash # sign\n",
    "\n",
    "\n",
    "        #Tokenize (converting strings to lists)\n",
    "        tokens_list = observation.split()\n",
    "        tokenizer = TweetTokenizer(preserve_case=False, strip_handles=True,\n",
    "                               reduce_len=True)\n",
    "        tokens_list = tokenizer.tokenize(observation)\n",
    "        #Remove the Stopwords\n",
    "        stop_words = set(stop_words)\n",
    "        stop_words.update([\"american\", \"air\",\"airline\",\"thank\",\"united\",\"us\",\"airways\",\"virgin\",\"america\",\"jetblue\",\"youre\",\"extremely\",\n",
    "                     \"usairway\",\"usairways\",\"flight\",\"americanair\",\"southwestair\",\"southwestairlines\",\"arbitrarily\",\"dream\",\"crazy\",\n",
    "                     \"southwestairway\",\"southwestairways\",\"virginamerica\",\"really\",\"will\",\"going\",\"thanks\",\"thankyou\",\"passengersdont\",\n",
    "                     \"please\",\"got\",\"let\",\"take\",\"help\",\"already\",\"never\",\"now\",\"told\",\"guy\",\"new\",\"sure\",\"still\",\"amp\",\"continue\",\n",
    "                     \"plane\",\"tell\",\"ye\",\"trying\",\"yes\",\"guy\",\"much\",\"appreciate\", \"thx\",\"back\",\"ok\",\"good\",\"credit\",\"aacom\",\n",
    "                     \"flying\",\"love\",\"great\",\"awesome\",\"see\",\"nice\",\"alway\",\"httptcojwl26g6lrw\",\"dontflythem\",\"motherinlaw\",\"night\",\n",
    "                     \"nogearnotraining\",\"seriously\",\"didnt\",\"coudnt\",\"cant\",\"wont\",\"dont\",\"wat\",\"buffaloniagara\",\"hasshe\",\"morning\",\n",
    "                     \"woulda\",\"people\",\"try\",\"youve\",\"youd\",\"yours\",\"flightled\",\"tomorrow\",\"today\",\"wat\",\"jfkyou\",\"flite\",\"cause\",\n",
    "                     \"flightr\",\"flight\",\"need\",\"hours\",\"nooooo\",\"like\",\"doesnt\",\"right\",\"talk\",\"tweet\",\"mention\",\"pbijfk\",\"ridiculuous\",\n",
    "                     \"wasnt\",\"suppose\",\"want\",\"understand\",\"come\",\"work\",\"worse\",\"treat\",\"think\",\"know\",\"worst\",\"paulo\",\"staduim\",\n",
    "                     \"wouldnt\",\"stay\",\"away\",\"wont\",\"werent\",\"happen\",\"sorry\",\"havent\",\"tonight\",\"drive\",\"life\",\"thing\",\"aa951\",\n",
    "                     \"whats\",\"theyre\",\"better\",\"thats\",\"allow\",\"hope\",\"stop\",\"cool\",\"niece\",\"happy\",\"word\",\"customercant\",\n",
    "                     \"suck\",\"sunday\",\"monday\",\"tuesday\",\"wednesday\",\"thursday\",\"friday\",\"saturday\",\"weekend\",\"ruin\",\"shouldnt\",\n",
    "                     \"miami\",\"los angeles\",\"new york\",\"chicago\",\"dallas\",\"apparently\",\"itover\",\"someones\",\"savannah\",\"lucymay\",\n",
    "                     \"betterother\",\"instead\",\"look\",\"hopefully\",\"yesterday\",\"antonio\",\"unacceptable\",\"folks\",\"record\",'arent',\n",
    "                     \"miss\",\"hang\",\"wrong\",\"stick\",\"grind\",\"tarmac\",\"theres\",\"forget\",\"terrible\",\"clothe\",\"terrible\",\"break\",\n",
    "                     \"actually\",\"frustrate\",\"correct\",\"ridiculous\",\"expect\",\"different\",\"pathetic\",\"bother\",\"follow\",\"fault\",\n",
    "                     \"impossible\",\"point\",\"cover\",\"person\",\"ask\",\"speak\",\"things\",\"earlier\",\"mean\",\"select\",\"minutes\",\n",
    "                     \"unite\",\"horrible\",\"country\",\"leave\",\"speak\",\"apologize\",\"faster\",\"hop\",\"confuse\",\"lose\",\"flightd\",\"hear\",\n",
    "                     \"literally\",\"years\",\"surprise\",\"bump\",\"fail\",\"compensate\",\"hand\",\"helpful\",\"upset\",\"friend\",\"excuse\",\"claim\",\n",
    "                     \"situation\",\"multiple\",\"weather\",\"choose\",\"company\",\"believe\",\"question\",\"kick\",\"anymore\",\"awful\",\"delta\",\n",
    "                      \"dozen\",\"medical\",\"completely\",\"finally\", \"waste\",\"shock\",\"annoy\",\"maybe\",\"strand\",\"mess\",\"finally\",\n",
    "                      \"plan\",\"place\",\"apology\",\"center\",\"plan\",\"twitter\",\"promise\",\"prefer\",\"count\",\"maybe\",\"shock\",\"longer\",\"meet\",\n",
    "                         \"important\",\"drop\"])\n",
    "        if stop_words is not None:\n",
    "            stop_text = []\n",
    "            for word in tokens_list: \n",
    "                if (word not in stop_words and  # remove stopwords\n",
    "        word not in string.punctuation ): # remove punctuation\n",
    "                    word_ = ''\n",
    "                    for char in word:\n",
    "                        if (char not in string.punctuation and\n",
    "                            char not in ['1','2','3','4','5','6','7','8','9','0','',' ']):\n",
    "                            word_ = \"\".join((word_,char))\n",
    "                    stop_text.append(word_)\n",
    "                    tokens_list = stop_text.copy()\n",
    "\n",
    "        if lemm == True:\n",
    "            lem_text = []\n",
    "            for word in tokens_list: # Go through every word in the tokens list\n",
    "                # Init the Wordnet Lemmatizer\n",
    "                lem_word = self.lemmatizer_.lemmatize(word,'v')\n",
    "                lem_text.append(lem_word)\n",
    "            tokens_list = lem_text.copy()\n",
    "        \n",
    "        tweets_clean = \" \".join(tokens_list)\n",
    "\n",
    "        return tokens_list"
   ]
  },
  {
   "cell_type": "code",
   "execution_count": null,
   "metadata": {},
   "outputs": [],
   "source": [
    "from nltk.tokenize import TweetTokenizer\n",
    "tweets_processed = TweetClassify(neg, column_name='text')"
   ]
  },
  {
   "cell_type": "code",
   "execution_count": null,
   "metadata": {},
   "outputs": [],
   "source": [
    "neg"
   ]
  },
  {
   "source": [
    "## Corpus"
   ],
   "cell_type": "markdown",
   "metadata": {}
  },
  {
   "cell_type": "code",
   "execution_count": null,
   "metadata": {},
   "outputs": [],
   "source": [
    "import gensim\n",
    "from gensim.utils import simple_preprocess\n",
    "from gensim.parsing.preprocessing import STOPWORDS\n",
    "from bs4 import BeautifulSoup\n",
    "from gensim.models import CoherenceModel\n",
    "from gensim import corpora, models"
   ]
  },
  {
   "cell_type": "code",
   "execution_count": 10,
   "metadata": {},
   "outputs": [],
   "source": [
    "processed_docs=neg['tweets_clean'] \n",
    "id2word = gensim.corpora.Dictionary(processed_docs) # Create Dictionary\n",
    "corpus = [id2word.doc2bow(text) for text in processed_docs] #Create Corpus: TDF"
   ]
  },
  {
   "cell_type": "code",
   "execution_count": 11,
   "metadata": {},
   "outputs": [],
   "source": [
    "id2word.save_as_text('dict_.txt')\n",
    "id2word.save('id2word.dict')"
   ]
  },
  {
   "source": [
    "## K topics"
   ],
   "cell_type": "markdown",
   "metadata": {}
  },
  {
   "cell_type": "code",
   "execution_count": 12,
   "metadata": {},
   "outputs": [],
   "source": [
    "def coherence(dictionary, corpus, texts, start, stop):\n",
    "    values = []\n",
    "    models = []\n",
    "    for num_topics in range(start, stop):\n",
    "        model = gensim.models.ldamodel.LdaModel(corpus=corpus, \n",
    "                                                num_topics=num_topics,\n",
    "                                                id2word=id2word,\n",
    "                                               random_state=123,\n",
    "                                               alpha='auto',\n",
    "                                                eta='auto',\n",
    "                                               per_word_topics=True)\n",
    "        models.append(model)\n",
    "        coherencemodel = CoherenceModel(model=model, texts=texts, dictionary=dictionary, coherence='c_v')\n",
    "        values.append(coherencemodel.get_coherence())\n",
    "\n",
    "    return models, values"
   ]
  },
  {
   "cell_type": "code",
   "execution_count": 15,
   "metadata": {},
   "outputs": [],
   "source": [
    "start=3\n",
    "stop=9\n",
    "models, values = coherence(dictionary=id2word, \n",
    "                                                        corpus=corpus, \n",
    "                                                        texts=processed_docs,\n",
    "                                                        start=start, \n",
    "                                                        stop=stop)"
   ]
  },
  {
   "cell_type": "code",
   "execution_count": 16,
   "metadata": {},
   "outputs": [
    {
     "output_type": "display_data",
     "data": {
      "text/plain": "<Figure size 720x504 with 1 Axes>",
      "image/svg+xml": "<?xml version=\"1.0\" encoding=\"utf-8\" standalone=\"no\"?>\n<!DOCTYPE svg PUBLIC \"-//W3C//DTD SVG 1.1//EN\"\n  \"http://www.w3.org/Graphics/SVG/1.1/DTD/svg11.dtd\">\n<!-- Created with matplotlib (https://matplotlib.org/) -->\n<svg height=\"448.824687pt\" version=\"1.1\" viewBox=\"0 0 625.500937 448.824687\" width=\"625.500937pt\" xmlns=\"http://www.w3.org/2000/svg\" xmlns:xlink=\"http://www.w3.org/1999/xlink\">\n <defs>\n  <style type=\"text/css\">\n*{stroke-linecap:butt;stroke-linejoin:round;}\n  </style>\n </defs>\n <g id=\"figure_1\">\n  <g id=\"patch_1\">\n   <path d=\"M 0 448.824687 \nL 625.500937 448.824687 \nL 625.500937 0 \nL 0 0 \nz\n\" style=\"fill:#ffffff;\"/>\n  </g>\n  <g id=\"axes_1\">\n   <g id=\"patch_2\">\n    <path d=\"M 54.015 407.397187 \nL 612.015 407.397187 \nL 612.015 26.877187 \nL 54.015 26.877187 \nz\n\" style=\"fill:#e5e5e5;\"/>\n   </g>\n   <g id=\"matplotlib.axis_1\">\n    <g id=\"xtick_1\">\n     <g id=\"line2d_1\">\n      <path clip-path=\"url(#p41e03f7c36)\" d=\"M 79.378636 407.397187 \nL 79.378636 26.877187 \n\" style=\"fill:none;stroke:#ffffff;stroke-linecap:square;stroke-width:0.8;\"/>\n     </g>\n     <g id=\"line2d_2\">\n      <defs>\n       <path d=\"M 0 0 \nL 0 3.5 \n\" id=\"m26dc0be2ef\" style=\"stroke:#555555;stroke-width:0.8;\"/>\n      </defs>\n      <g>\n       <use style=\"fill:#555555;stroke:#555555;stroke-width:0.8;\" x=\"79.378636\" xlink:href=\"#m26dc0be2ef\" y=\"407.397187\"/>\n      </g>\n     </g>\n     <g id=\"text_1\">\n      <!-- 3 -->\n      <defs>\n       <path d=\"M 40.578125 39.3125 \nQ 47.65625 37.796875 51.625 33 \nQ 55.609375 28.21875 55.609375 21.1875 \nQ 55.609375 10.40625 48.1875 4.484375 \nQ 40.765625 -1.421875 27.09375 -1.421875 \nQ 22.515625 -1.421875 17.65625 -0.515625 \nQ 12.796875 0.390625 7.625 2.203125 \nL 7.625 11.71875 \nQ 11.71875 9.328125 16.59375 8.109375 \nQ 21.484375 6.890625 26.8125 6.890625 \nQ 36.078125 6.890625 40.9375 10.546875 \nQ 45.796875 14.203125 45.796875 21.1875 \nQ 45.796875 27.640625 41.28125 31.265625 \nQ 36.765625 34.90625 28.71875 34.90625 \nL 20.21875 34.90625 \nL 20.21875 43.015625 \nL 29.109375 43.015625 \nQ 36.375 43.015625 40.234375 45.921875 \nQ 44.09375 48.828125 44.09375 54.296875 \nQ 44.09375 59.90625 40.109375 62.90625 \nQ 36.140625 65.921875 28.71875 65.921875 \nQ 24.65625 65.921875 20.015625 65.03125 \nQ 15.375 64.15625 9.8125 62.3125 \nL 9.8125 71.09375 \nQ 15.4375 72.65625 20.34375 73.4375 \nQ 25.25 74.21875 29.59375 74.21875 \nQ 40.828125 74.21875 47.359375 69.109375 \nQ 53.90625 64.015625 53.90625 55.328125 \nQ 53.90625 49.265625 50.4375 45.09375 \nQ 46.96875 40.921875 40.578125 39.3125 \nz\n\" id=\"DejaVuSans-51\"/>\n      </defs>\n      <g style=\"fill:#555555;\" transform=\"translate(76.197386 421.995625)scale(0.1 -0.1)\">\n       <use xlink:href=\"#DejaVuSans-51\"/>\n      </g>\n     </g>\n    </g>\n    <g id=\"xtick_2\">\n     <g id=\"line2d_3\">\n      <path clip-path=\"url(#p41e03f7c36)\" d=\"M 180.833182 407.397187 \nL 180.833182 26.877187 \n\" style=\"fill:none;stroke:#ffffff;stroke-linecap:square;stroke-width:0.8;\"/>\n     </g>\n     <g id=\"line2d_4\">\n      <g>\n       <use style=\"fill:#555555;stroke:#555555;stroke-width:0.8;\" x=\"180.833182\" xlink:href=\"#m26dc0be2ef\" y=\"407.397187\"/>\n      </g>\n     </g>\n     <g id=\"text_2\">\n      <!-- 4 -->\n      <defs>\n       <path d=\"M 37.796875 64.3125 \nL 12.890625 25.390625 \nL 37.796875 25.390625 \nz\nM 35.203125 72.90625 \nL 47.609375 72.90625 \nL 47.609375 25.390625 \nL 58.015625 25.390625 \nL 58.015625 17.1875 \nL 47.609375 17.1875 \nL 47.609375 0 \nL 37.796875 0 \nL 37.796875 17.1875 \nL 4.890625 17.1875 \nL 4.890625 26.703125 \nz\n\" id=\"DejaVuSans-52\"/>\n      </defs>\n      <g style=\"fill:#555555;\" transform=\"translate(177.651932 421.995625)scale(0.1 -0.1)\">\n       <use xlink:href=\"#DejaVuSans-52\"/>\n      </g>\n     </g>\n    </g>\n    <g id=\"xtick_3\">\n     <g id=\"line2d_5\">\n      <path clip-path=\"url(#p41e03f7c36)\" d=\"M 282.287727 407.397187 \nL 282.287727 26.877187 \n\" style=\"fill:none;stroke:#ffffff;stroke-linecap:square;stroke-width:0.8;\"/>\n     </g>\n     <g id=\"line2d_6\">\n      <g>\n       <use style=\"fill:#555555;stroke:#555555;stroke-width:0.8;\" x=\"282.287727\" xlink:href=\"#m26dc0be2ef\" y=\"407.397187\"/>\n      </g>\n     </g>\n     <g id=\"text_3\">\n      <!-- 5 -->\n      <defs>\n       <path d=\"M 10.796875 72.90625 \nL 49.515625 72.90625 \nL 49.515625 64.59375 \nL 19.828125 64.59375 \nL 19.828125 46.734375 \nQ 21.96875 47.46875 24.109375 47.828125 \nQ 26.265625 48.1875 28.421875 48.1875 \nQ 40.625 48.1875 47.75 41.5 \nQ 54.890625 34.8125 54.890625 23.390625 \nQ 54.890625 11.625 47.5625 5.09375 \nQ 40.234375 -1.421875 26.90625 -1.421875 \nQ 22.3125 -1.421875 17.546875 -0.640625 \nQ 12.796875 0.140625 7.71875 1.703125 \nL 7.71875 11.625 \nQ 12.109375 9.234375 16.796875 8.0625 \nQ 21.484375 6.890625 26.703125 6.890625 \nQ 35.15625 6.890625 40.078125 11.328125 \nQ 45.015625 15.765625 45.015625 23.390625 \nQ 45.015625 31 40.078125 35.4375 \nQ 35.15625 39.890625 26.703125 39.890625 \nQ 22.75 39.890625 18.8125 39.015625 \nQ 14.890625 38.140625 10.796875 36.28125 \nz\n\" id=\"DejaVuSans-53\"/>\n      </defs>\n      <g style=\"fill:#555555;\" transform=\"translate(279.106477 421.995625)scale(0.1 -0.1)\">\n       <use xlink:href=\"#DejaVuSans-53\"/>\n      </g>\n     </g>\n    </g>\n    <g id=\"xtick_4\">\n     <g id=\"line2d_7\">\n      <path clip-path=\"url(#p41e03f7c36)\" d=\"M 383.742273 407.397187 \nL 383.742273 26.877187 \n\" style=\"fill:none;stroke:#ffffff;stroke-linecap:square;stroke-width:0.8;\"/>\n     </g>\n     <g id=\"line2d_8\">\n      <g>\n       <use style=\"fill:#555555;stroke:#555555;stroke-width:0.8;\" x=\"383.742273\" xlink:href=\"#m26dc0be2ef\" y=\"407.397187\"/>\n      </g>\n     </g>\n     <g id=\"text_4\">\n      <!-- 6 -->\n      <defs>\n       <path d=\"M 33.015625 40.375 \nQ 26.375 40.375 22.484375 35.828125 \nQ 18.609375 31.296875 18.609375 23.390625 \nQ 18.609375 15.53125 22.484375 10.953125 \nQ 26.375 6.390625 33.015625 6.390625 \nQ 39.65625 6.390625 43.53125 10.953125 \nQ 47.40625 15.53125 47.40625 23.390625 \nQ 47.40625 31.296875 43.53125 35.828125 \nQ 39.65625 40.375 33.015625 40.375 \nz\nM 52.59375 71.296875 \nL 52.59375 62.3125 \nQ 48.875 64.0625 45.09375 64.984375 \nQ 41.3125 65.921875 37.59375 65.921875 \nQ 27.828125 65.921875 22.671875 59.328125 \nQ 17.53125 52.734375 16.796875 39.40625 \nQ 19.671875 43.65625 24.015625 45.921875 \nQ 28.375 48.1875 33.59375 48.1875 \nQ 44.578125 48.1875 50.953125 41.515625 \nQ 57.328125 34.859375 57.328125 23.390625 \nQ 57.328125 12.15625 50.6875 5.359375 \nQ 44.046875 -1.421875 33.015625 -1.421875 \nQ 20.359375 -1.421875 13.671875 8.265625 \nQ 6.984375 17.96875 6.984375 36.375 \nQ 6.984375 53.65625 15.1875 63.9375 \nQ 23.390625 74.21875 37.203125 74.21875 \nQ 40.921875 74.21875 44.703125 73.484375 \nQ 48.484375 72.75 52.59375 71.296875 \nz\n\" id=\"DejaVuSans-54\"/>\n      </defs>\n      <g style=\"fill:#555555;\" transform=\"translate(380.561023 421.995625)scale(0.1 -0.1)\">\n       <use xlink:href=\"#DejaVuSans-54\"/>\n      </g>\n     </g>\n    </g>\n    <g id=\"xtick_5\">\n     <g id=\"line2d_9\">\n      <path clip-path=\"url(#p41e03f7c36)\" d=\"M 485.196818 407.397187 \nL 485.196818 26.877187 \n\" style=\"fill:none;stroke:#ffffff;stroke-linecap:square;stroke-width:0.8;\"/>\n     </g>\n     <g id=\"line2d_10\">\n      <g>\n       <use style=\"fill:#555555;stroke:#555555;stroke-width:0.8;\" x=\"485.196818\" xlink:href=\"#m26dc0be2ef\" y=\"407.397187\"/>\n      </g>\n     </g>\n     <g id=\"text_5\">\n      <!-- 7 -->\n      <defs>\n       <path d=\"M 8.203125 72.90625 \nL 55.078125 72.90625 \nL 55.078125 68.703125 \nL 28.609375 0 \nL 18.3125 0 \nL 43.21875 64.59375 \nL 8.203125 64.59375 \nz\n\" id=\"DejaVuSans-55\"/>\n      </defs>\n      <g style=\"fill:#555555;\" transform=\"translate(482.015568 421.995625)scale(0.1 -0.1)\">\n       <use xlink:href=\"#DejaVuSans-55\"/>\n      </g>\n     </g>\n    </g>\n    <g id=\"xtick_6\">\n     <g id=\"line2d_11\">\n      <path clip-path=\"url(#p41e03f7c36)\" d=\"M 586.651364 407.397187 \nL 586.651364 26.877187 \n\" style=\"fill:none;stroke:#ffffff;stroke-linecap:square;stroke-width:0.8;\"/>\n     </g>\n     <g id=\"line2d_12\">\n      <g>\n       <use style=\"fill:#555555;stroke:#555555;stroke-width:0.8;\" x=\"586.651364\" xlink:href=\"#m26dc0be2ef\" y=\"407.397187\"/>\n      </g>\n     </g>\n     <g id=\"text_6\">\n      <!-- 8 -->\n      <defs>\n       <path d=\"M 31.78125 34.625 \nQ 24.75 34.625 20.71875 30.859375 \nQ 16.703125 27.09375 16.703125 20.515625 \nQ 16.703125 13.921875 20.71875 10.15625 \nQ 24.75 6.390625 31.78125 6.390625 \nQ 38.8125 6.390625 42.859375 10.171875 \nQ 46.921875 13.96875 46.921875 20.515625 \nQ 46.921875 27.09375 42.890625 30.859375 \nQ 38.875 34.625 31.78125 34.625 \nz\nM 21.921875 38.8125 \nQ 15.578125 40.375 12.03125 44.71875 \nQ 8.5 49.078125 8.5 55.328125 \nQ 8.5 64.0625 14.71875 69.140625 \nQ 20.953125 74.21875 31.78125 74.21875 \nQ 42.671875 74.21875 48.875 69.140625 \nQ 55.078125 64.0625 55.078125 55.328125 \nQ 55.078125 49.078125 51.53125 44.71875 \nQ 48 40.375 41.703125 38.8125 \nQ 48.828125 37.15625 52.796875 32.3125 \nQ 56.78125 27.484375 56.78125 20.515625 \nQ 56.78125 9.90625 50.3125 4.234375 \nQ 43.84375 -1.421875 31.78125 -1.421875 \nQ 19.734375 -1.421875 13.25 4.234375 \nQ 6.78125 9.90625 6.78125 20.515625 \nQ 6.78125 27.484375 10.78125 32.3125 \nQ 14.796875 37.15625 21.921875 38.8125 \nz\nM 18.3125 54.390625 \nQ 18.3125 48.734375 21.84375 45.5625 \nQ 25.390625 42.390625 31.78125 42.390625 \nQ 38.140625 42.390625 41.71875 45.5625 \nQ 45.3125 48.734375 45.3125 54.390625 \nQ 45.3125 60.0625 41.71875 63.234375 \nQ 38.140625 66.40625 31.78125 66.40625 \nQ 25.390625 66.40625 21.84375 63.234375 \nQ 18.3125 60.0625 18.3125 54.390625 \nz\n\" id=\"DejaVuSans-56\"/>\n      </defs>\n      <g style=\"fill:#555555;\" transform=\"translate(583.470114 421.995625)scale(0.1 -0.1)\">\n       <use xlink:href=\"#DejaVuSans-56\"/>\n      </g>\n     </g>\n    </g>\n    <g id=\"text_7\">\n     <!-- Num Topics -->\n     <defs>\n      <path d=\"M 9.8125 72.90625 \nL 23.09375 72.90625 \nL 55.421875 11.921875 \nL 55.421875 72.90625 \nL 64.984375 72.90625 \nL 64.984375 0 \nL 51.703125 0 \nL 19.390625 60.984375 \nL 19.390625 0 \nL 9.8125 0 \nz\n\" id=\"DejaVuSans-78\"/>\n      <path d=\"M 8.5 21.578125 \nL 8.5 54.6875 \nL 17.484375 54.6875 \nL 17.484375 21.921875 \nQ 17.484375 14.15625 20.5 10.265625 \nQ 23.53125 6.390625 29.59375 6.390625 \nQ 36.859375 6.390625 41.078125 11.03125 \nQ 45.3125 15.671875 45.3125 23.6875 \nL 45.3125 54.6875 \nL 54.296875 54.6875 \nL 54.296875 0 \nL 45.3125 0 \nL 45.3125 8.40625 \nQ 42.046875 3.421875 37.71875 1 \nQ 33.40625 -1.421875 27.6875 -1.421875 \nQ 18.265625 -1.421875 13.375 4.4375 \nQ 8.5 10.296875 8.5 21.578125 \nz\nM 31.109375 56 \nz\n\" id=\"DejaVuSans-117\"/>\n      <path d=\"M 52 44.1875 \nQ 55.375 50.25 60.0625 53.125 \nQ 64.75 56 71.09375 56 \nQ 79.640625 56 84.28125 50.015625 \nQ 88.921875 44.046875 88.921875 33.015625 \nL 88.921875 0 \nL 79.890625 0 \nL 79.890625 32.71875 \nQ 79.890625 40.578125 77.09375 44.375 \nQ 74.3125 48.1875 68.609375 48.1875 \nQ 61.625 48.1875 57.5625 43.546875 \nQ 53.515625 38.921875 53.515625 30.90625 \nL 53.515625 0 \nL 44.484375 0 \nL 44.484375 32.71875 \nQ 44.484375 40.625 41.703125 44.40625 \nQ 38.921875 48.1875 33.109375 48.1875 \nQ 26.21875 48.1875 22.15625 43.53125 \nQ 18.109375 38.875 18.109375 30.90625 \nL 18.109375 0 \nL 9.078125 0 \nL 9.078125 54.6875 \nL 18.109375 54.6875 \nL 18.109375 46.1875 \nQ 21.1875 51.21875 25.484375 53.609375 \nQ 29.78125 56 35.6875 56 \nQ 41.65625 56 45.828125 52.96875 \nQ 50 49.953125 52 44.1875 \nz\n\" id=\"DejaVuSans-109\"/>\n      <path id=\"DejaVuSans-32\"/>\n      <path d=\"M -0.296875 72.90625 \nL 61.375 72.90625 \nL 61.375 64.59375 \nL 35.5 64.59375 \nL 35.5 0 \nL 25.59375 0 \nL 25.59375 64.59375 \nL -0.296875 64.59375 \nz\n\" id=\"DejaVuSans-84\"/>\n      <path d=\"M 30.609375 48.390625 \nQ 23.390625 48.390625 19.1875 42.75 \nQ 14.984375 37.109375 14.984375 27.296875 \nQ 14.984375 17.484375 19.15625 11.84375 \nQ 23.34375 6.203125 30.609375 6.203125 \nQ 37.796875 6.203125 41.984375 11.859375 \nQ 46.1875 17.53125 46.1875 27.296875 \nQ 46.1875 37.015625 41.984375 42.703125 \nQ 37.796875 48.390625 30.609375 48.390625 \nz\nM 30.609375 56 \nQ 42.328125 56 49.015625 48.375 \nQ 55.71875 40.765625 55.71875 27.296875 \nQ 55.71875 13.875 49.015625 6.21875 \nQ 42.328125 -1.421875 30.609375 -1.421875 \nQ 18.84375 -1.421875 12.171875 6.21875 \nQ 5.515625 13.875 5.515625 27.296875 \nQ 5.515625 40.765625 12.171875 48.375 \nQ 18.84375 56 30.609375 56 \nz\n\" id=\"DejaVuSans-111\"/>\n      <path d=\"M 18.109375 8.203125 \nL 18.109375 -20.796875 \nL 9.078125 -20.796875 \nL 9.078125 54.6875 \nL 18.109375 54.6875 \nL 18.109375 46.390625 \nQ 20.953125 51.265625 25.265625 53.625 \nQ 29.59375 56 35.59375 56 \nQ 45.5625 56 51.78125 48.09375 \nQ 58.015625 40.1875 58.015625 27.296875 \nQ 58.015625 14.40625 51.78125 6.484375 \nQ 45.5625 -1.421875 35.59375 -1.421875 \nQ 29.59375 -1.421875 25.265625 0.953125 \nQ 20.953125 3.328125 18.109375 8.203125 \nz\nM 48.6875 27.296875 \nQ 48.6875 37.203125 44.609375 42.84375 \nQ 40.53125 48.484375 33.40625 48.484375 \nQ 26.265625 48.484375 22.1875 42.84375 \nQ 18.109375 37.203125 18.109375 27.296875 \nQ 18.109375 17.390625 22.1875 11.75 \nQ 26.265625 6.109375 33.40625 6.109375 \nQ 40.53125 6.109375 44.609375 11.75 \nQ 48.6875 17.390625 48.6875 27.296875 \nz\n\" id=\"DejaVuSans-112\"/>\n      <path d=\"M 9.421875 54.6875 \nL 18.40625 54.6875 \nL 18.40625 0 \nL 9.421875 0 \nz\nM 9.421875 75.984375 \nL 18.40625 75.984375 \nL 18.40625 64.59375 \nL 9.421875 64.59375 \nz\n\" id=\"DejaVuSans-105\"/>\n      <path d=\"M 48.78125 52.59375 \nL 48.78125 44.1875 \nQ 44.96875 46.296875 41.140625 47.34375 \nQ 37.3125 48.390625 33.40625 48.390625 \nQ 24.65625 48.390625 19.8125 42.84375 \nQ 14.984375 37.3125 14.984375 27.296875 \nQ 14.984375 17.28125 19.8125 11.734375 \nQ 24.65625 6.203125 33.40625 6.203125 \nQ 37.3125 6.203125 41.140625 7.25 \nQ 44.96875 8.296875 48.78125 10.40625 \nL 48.78125 2.09375 \nQ 45.015625 0.34375 40.984375 -0.53125 \nQ 36.96875 -1.421875 32.421875 -1.421875 \nQ 20.0625 -1.421875 12.78125 6.34375 \nQ 5.515625 14.109375 5.515625 27.296875 \nQ 5.515625 40.671875 12.859375 48.328125 \nQ 20.21875 56 33.015625 56 \nQ 37.15625 56 41.109375 55.140625 \nQ 45.0625 54.296875 48.78125 52.59375 \nz\n\" id=\"DejaVuSans-99\"/>\n      <path d=\"M 44.28125 53.078125 \nL 44.28125 44.578125 \nQ 40.484375 46.53125 36.375 47.5 \nQ 32.28125 48.484375 27.875 48.484375 \nQ 21.1875 48.484375 17.84375 46.4375 \nQ 14.5 44.390625 14.5 40.28125 \nQ 14.5 37.15625 16.890625 35.375 \nQ 19.28125 33.59375 26.515625 31.984375 \nL 29.59375 31.296875 \nQ 39.15625 29.25 43.1875 25.515625 \nQ 47.21875 21.78125 47.21875 15.09375 \nQ 47.21875 7.46875 41.1875 3.015625 \nQ 35.15625 -1.421875 24.609375 -1.421875 \nQ 20.21875 -1.421875 15.453125 -0.5625 \nQ 10.6875 0.296875 5.421875 2 \nL 5.421875 11.28125 \nQ 10.40625 8.6875 15.234375 7.390625 \nQ 20.0625 6.109375 24.8125 6.109375 \nQ 31.15625 6.109375 34.5625 8.28125 \nQ 37.984375 10.453125 37.984375 14.40625 \nQ 37.984375 18.0625 35.515625 20.015625 \nQ 33.0625 21.96875 24.703125 23.78125 \nL 21.578125 24.515625 \nQ 13.234375 26.265625 9.515625 29.90625 \nQ 5.8125 33.546875 5.8125 39.890625 \nQ 5.8125 47.609375 11.28125 51.796875 \nQ 16.75 56 26.8125 56 \nQ 31.78125 56 36.171875 55.265625 \nQ 40.578125 54.546875 44.28125 53.078125 \nz\n\" id=\"DejaVuSans-115\"/>\n     </defs>\n     <g style=\"fill:#555555;\" transform=\"translate(293.046094 438.713125)scale(0.14 -0.14)\">\n      <use xlink:href=\"#DejaVuSans-78\"/>\n      <use x=\"74.804688\" xlink:href=\"#DejaVuSans-117\"/>\n      <use x=\"138.183594\" xlink:href=\"#DejaVuSans-109\"/>\n      <use x=\"235.595703\" xlink:href=\"#DejaVuSans-32\"/>\n      <use x=\"267.382812\" xlink:href=\"#DejaVuSans-84\"/>\n      <use x=\"311.466797\" xlink:href=\"#DejaVuSans-111\"/>\n      <use x=\"372.648438\" xlink:href=\"#DejaVuSans-112\"/>\n      <use x=\"436.125\" xlink:href=\"#DejaVuSans-105\"/>\n      <use x=\"463.908203\" xlink:href=\"#DejaVuSans-99\"/>\n      <use x=\"518.888672\" xlink:href=\"#DejaVuSans-115\"/>\n     </g>\n    </g>\n   </g>\n   <g id=\"matplotlib.axis_2\">\n    <g id=\"ytick_1\">\n     <g id=\"line2d_13\">\n      <path clip-path=\"url(#p41e03f7c36)\" d=\"M 54.015 406.656227 \nL 612.015 406.656227 \n\" style=\"fill:none;stroke:#ffffff;stroke-linecap:square;stroke-width:0.8;\"/>\n     </g>\n     <g id=\"line2d_14\">\n      <defs>\n       <path d=\"M 0 0 \nL -3.5 0 \n\" id=\"m5ea096735b\" style=\"stroke:#555555;stroke-width:0.8;\"/>\n      </defs>\n      <g>\n       <use style=\"fill:#555555;stroke:#555555;stroke-width:0.8;\" x=\"54.015\" xlink:href=\"#m5ea096735b\" y=\"406.656227\"/>\n      </g>\n     </g>\n     <g id=\"text_8\">\n      <!-- 0.16 -->\n      <defs>\n       <path d=\"M 31.78125 66.40625 \nQ 24.171875 66.40625 20.328125 58.90625 \nQ 16.5 51.421875 16.5 36.375 \nQ 16.5 21.390625 20.328125 13.890625 \nQ 24.171875 6.390625 31.78125 6.390625 \nQ 39.453125 6.390625 43.28125 13.890625 \nQ 47.125 21.390625 47.125 36.375 \nQ 47.125 51.421875 43.28125 58.90625 \nQ 39.453125 66.40625 31.78125 66.40625 \nz\nM 31.78125 74.21875 \nQ 44.046875 74.21875 50.515625 64.515625 \nQ 56.984375 54.828125 56.984375 36.375 \nQ 56.984375 17.96875 50.515625 8.265625 \nQ 44.046875 -1.421875 31.78125 -1.421875 \nQ 19.53125 -1.421875 13.0625 8.265625 \nQ 6.59375 17.96875 6.59375 36.375 \nQ 6.59375 54.828125 13.0625 64.515625 \nQ 19.53125 74.21875 31.78125 74.21875 \nz\n\" id=\"DejaVuSans-48\"/>\n       <path d=\"M 10.6875 12.40625 \nL 21 12.40625 \nL 21 0 \nL 10.6875 0 \nz\n\" id=\"DejaVuSans-46\"/>\n       <path d=\"M 12.40625 8.296875 \nL 28.515625 8.296875 \nL 28.515625 63.921875 \nL 10.984375 60.40625 \nL 10.984375 69.390625 \nL 28.421875 72.90625 \nL 38.28125 72.90625 \nL 38.28125 8.296875 \nL 54.390625 8.296875 \nL 54.390625 0 \nL 12.40625 0 \nz\n\" id=\"DejaVuSans-49\"/>\n      </defs>\n      <g style=\"fill:#555555;\" transform=\"translate(24.749375 410.455446)scale(0.1 -0.1)\">\n       <use xlink:href=\"#DejaVuSans-48\"/>\n       <use x=\"63.623047\" xlink:href=\"#DejaVuSans-46\"/>\n       <use x=\"95.410156\" xlink:href=\"#DejaVuSans-49\"/>\n       <use x=\"159.033203\" xlink:href=\"#DejaVuSans-54\"/>\n      </g>\n     </g>\n    </g>\n    <g id=\"ytick_2\">\n     <g id=\"line2d_15\">\n      <path clip-path=\"url(#p41e03f7c36)\" d=\"M 54.015 322.544737 \nL 612.015 322.544737 \n\" style=\"fill:none;stroke:#ffffff;stroke-linecap:square;stroke-width:0.8;\"/>\n     </g>\n     <g id=\"line2d_16\">\n      <g>\n       <use style=\"fill:#555555;stroke:#555555;stroke-width:0.8;\" x=\"54.015\" xlink:href=\"#m5ea096735b\" y=\"322.544737\"/>\n      </g>\n     </g>\n     <g id=\"text_9\">\n      <!-- 0.18 -->\n      <g style=\"fill:#555555;\" transform=\"translate(24.749375 326.343955)scale(0.1 -0.1)\">\n       <use xlink:href=\"#DejaVuSans-48\"/>\n       <use x=\"63.623047\" xlink:href=\"#DejaVuSans-46\"/>\n       <use x=\"95.410156\" xlink:href=\"#DejaVuSans-49\"/>\n       <use x=\"159.033203\" xlink:href=\"#DejaVuSans-56\"/>\n      </g>\n     </g>\n    </g>\n    <g id=\"ytick_3\">\n     <g id=\"line2d_17\">\n      <path clip-path=\"url(#p41e03f7c36)\" d=\"M 54.015 238.433246 \nL 612.015 238.433246 \n\" style=\"fill:none;stroke:#ffffff;stroke-linecap:square;stroke-width:0.8;\"/>\n     </g>\n     <g id=\"line2d_18\">\n      <g>\n       <use style=\"fill:#555555;stroke:#555555;stroke-width:0.8;\" x=\"54.015\" xlink:href=\"#m5ea096735b\" y=\"238.433246\"/>\n      </g>\n     </g>\n     <g id=\"text_10\">\n      <!-- 0.20 -->\n      <defs>\n       <path d=\"M 19.1875 8.296875 \nL 53.609375 8.296875 \nL 53.609375 0 \nL 7.328125 0 \nL 7.328125 8.296875 \nQ 12.9375 14.109375 22.625 23.890625 \nQ 32.328125 33.6875 34.8125 36.53125 \nQ 39.546875 41.84375 41.421875 45.53125 \nQ 43.3125 49.21875 43.3125 52.78125 \nQ 43.3125 58.59375 39.234375 62.25 \nQ 35.15625 65.921875 28.609375 65.921875 \nQ 23.96875 65.921875 18.8125 64.3125 \nQ 13.671875 62.703125 7.8125 59.421875 \nL 7.8125 69.390625 \nQ 13.765625 71.78125 18.9375 73 \nQ 24.125 74.21875 28.421875 74.21875 \nQ 39.75 74.21875 46.484375 68.546875 \nQ 53.21875 62.890625 53.21875 53.421875 \nQ 53.21875 48.921875 51.53125 44.890625 \nQ 49.859375 40.875 45.40625 35.40625 \nQ 44.1875 33.984375 37.640625 27.21875 \nQ 31.109375 20.453125 19.1875 8.296875 \nz\n\" id=\"DejaVuSans-50\"/>\n      </defs>\n      <g style=\"fill:#555555;\" transform=\"translate(24.749375 242.232465)scale(0.1 -0.1)\">\n       <use xlink:href=\"#DejaVuSans-48\"/>\n       <use x=\"63.623047\" xlink:href=\"#DejaVuSans-46\"/>\n       <use x=\"95.410156\" xlink:href=\"#DejaVuSans-50\"/>\n       <use x=\"159.033203\" xlink:href=\"#DejaVuSans-48\"/>\n      </g>\n     </g>\n    </g>\n    <g id=\"ytick_4\">\n     <g id=\"line2d_19\">\n      <path clip-path=\"url(#p41e03f7c36)\" d=\"M 54.015 154.321755 \nL 612.015 154.321755 \n\" style=\"fill:none;stroke:#ffffff;stroke-linecap:square;stroke-width:0.8;\"/>\n     </g>\n     <g id=\"line2d_20\">\n      <g>\n       <use style=\"fill:#555555;stroke:#555555;stroke-width:0.8;\" x=\"54.015\" xlink:href=\"#m5ea096735b\" y=\"154.321755\"/>\n      </g>\n     </g>\n     <g id=\"text_11\">\n      <!-- 0.22 -->\n      <g style=\"fill:#555555;\" transform=\"translate(24.749375 158.120974)scale(0.1 -0.1)\">\n       <use xlink:href=\"#DejaVuSans-48\"/>\n       <use x=\"63.623047\" xlink:href=\"#DejaVuSans-46\"/>\n       <use x=\"95.410156\" xlink:href=\"#DejaVuSans-50\"/>\n       <use x=\"159.033203\" xlink:href=\"#DejaVuSans-50\"/>\n      </g>\n     </g>\n    </g>\n    <g id=\"ytick_5\">\n     <g id=\"line2d_21\">\n      <path clip-path=\"url(#p41e03f7c36)\" d=\"M 54.015 70.210264 \nL 612.015 70.210264 \n\" style=\"fill:none;stroke:#ffffff;stroke-linecap:square;stroke-width:0.8;\"/>\n     </g>\n     <g id=\"line2d_22\">\n      <g>\n       <use style=\"fill:#555555;stroke:#555555;stroke-width:0.8;\" x=\"54.015\" xlink:href=\"#m5ea096735b\" y=\"70.210264\"/>\n      </g>\n     </g>\n     <g id=\"text_12\">\n      <!-- 0.24 -->\n      <g style=\"fill:#555555;\" transform=\"translate(24.749375 74.009483)scale(0.1 -0.1)\">\n       <use xlink:href=\"#DejaVuSans-48\"/>\n       <use x=\"63.623047\" xlink:href=\"#DejaVuSans-46\"/>\n       <use x=\"95.410156\" xlink:href=\"#DejaVuSans-50\"/>\n       <use x=\"159.033203\" xlink:href=\"#DejaVuSans-52\"/>\n      </g>\n     </g>\n    </g>\n    <g id=\"text_13\">\n     <!-- Coherence score -->\n     <defs>\n      <path d=\"M 64.40625 67.28125 \nL 64.40625 56.890625 \nQ 59.421875 61.53125 53.78125 63.8125 \nQ 48.140625 66.109375 41.796875 66.109375 \nQ 29.296875 66.109375 22.65625 58.46875 \nQ 16.015625 50.828125 16.015625 36.375 \nQ 16.015625 21.96875 22.65625 14.328125 \nQ 29.296875 6.6875 41.796875 6.6875 \nQ 48.140625 6.6875 53.78125 8.984375 \nQ 59.421875 11.28125 64.40625 15.921875 \nL 64.40625 5.609375 \nQ 59.234375 2.09375 53.4375 0.328125 \nQ 47.65625 -1.421875 41.21875 -1.421875 \nQ 24.65625 -1.421875 15.125 8.703125 \nQ 5.609375 18.84375 5.609375 36.375 \nQ 5.609375 53.953125 15.125 64.078125 \nQ 24.65625 74.21875 41.21875 74.21875 \nQ 47.75 74.21875 53.53125 72.484375 \nQ 59.328125 70.75 64.40625 67.28125 \nz\n\" id=\"DejaVuSans-67\"/>\n      <path d=\"M 54.890625 33.015625 \nL 54.890625 0 \nL 45.90625 0 \nL 45.90625 32.71875 \nQ 45.90625 40.484375 42.875 44.328125 \nQ 39.84375 48.1875 33.796875 48.1875 \nQ 26.515625 48.1875 22.3125 43.546875 \nQ 18.109375 38.921875 18.109375 30.90625 \nL 18.109375 0 \nL 9.078125 0 \nL 9.078125 75.984375 \nL 18.109375 75.984375 \nL 18.109375 46.1875 \nQ 21.34375 51.125 25.703125 53.5625 \nQ 30.078125 56 35.796875 56 \nQ 45.21875 56 50.046875 50.171875 \nQ 54.890625 44.34375 54.890625 33.015625 \nz\n\" id=\"DejaVuSans-104\"/>\n      <path d=\"M 56.203125 29.59375 \nL 56.203125 25.203125 \nL 14.890625 25.203125 \nQ 15.484375 15.921875 20.484375 11.0625 \nQ 25.484375 6.203125 34.421875 6.203125 \nQ 39.59375 6.203125 44.453125 7.46875 \nQ 49.3125 8.734375 54.109375 11.28125 \nL 54.109375 2.78125 \nQ 49.265625 0.734375 44.1875 -0.34375 \nQ 39.109375 -1.421875 33.890625 -1.421875 \nQ 20.796875 -1.421875 13.15625 6.1875 \nQ 5.515625 13.8125 5.515625 26.8125 \nQ 5.515625 40.234375 12.765625 48.109375 \nQ 20.015625 56 32.328125 56 \nQ 43.359375 56 49.78125 48.890625 \nQ 56.203125 41.796875 56.203125 29.59375 \nz\nM 47.21875 32.234375 \nQ 47.125 39.59375 43.09375 43.984375 \nQ 39.0625 48.390625 32.421875 48.390625 \nQ 24.90625 48.390625 20.390625 44.140625 \nQ 15.875 39.890625 15.1875 32.171875 \nz\n\" id=\"DejaVuSans-101\"/>\n      <path d=\"M 41.109375 46.296875 \nQ 39.59375 47.171875 37.8125 47.578125 \nQ 36.03125 48 33.890625 48 \nQ 26.265625 48 22.1875 43.046875 \nQ 18.109375 38.09375 18.109375 28.8125 \nL 18.109375 0 \nL 9.078125 0 \nL 9.078125 54.6875 \nL 18.109375 54.6875 \nL 18.109375 46.1875 \nQ 20.953125 51.171875 25.484375 53.578125 \nQ 30.03125 56 36.53125 56 \nQ 37.453125 56 38.578125 55.875 \nQ 39.703125 55.765625 41.0625 55.515625 \nz\n\" id=\"DejaVuSans-114\"/>\n      <path d=\"M 54.890625 33.015625 \nL 54.890625 0 \nL 45.90625 0 \nL 45.90625 32.71875 \nQ 45.90625 40.484375 42.875 44.328125 \nQ 39.84375 48.1875 33.796875 48.1875 \nQ 26.515625 48.1875 22.3125 43.546875 \nQ 18.109375 38.921875 18.109375 30.90625 \nL 18.109375 0 \nL 9.078125 0 \nL 9.078125 54.6875 \nL 18.109375 54.6875 \nL 18.109375 46.1875 \nQ 21.34375 51.125 25.703125 53.5625 \nQ 30.078125 56 35.796875 56 \nQ 45.21875 56 50.046875 50.171875 \nQ 54.890625 44.34375 54.890625 33.015625 \nz\n\" id=\"DejaVuSans-110\"/>\n     </defs>\n     <g style=\"fill:#555555;\" transform=\"translate(17.837812 275.702031)rotate(-90)scale(0.14 -0.14)\">\n      <use xlink:href=\"#DejaVuSans-67\"/>\n      <use x=\"69.824219\" xlink:href=\"#DejaVuSans-111\"/>\n      <use x=\"131.005859\" xlink:href=\"#DejaVuSans-104\"/>\n      <use x=\"194.384766\" xlink:href=\"#DejaVuSans-101\"/>\n      <use x=\"255.908203\" xlink:href=\"#DejaVuSans-114\"/>\n      <use x=\"294.771484\" xlink:href=\"#DejaVuSans-101\"/>\n      <use x=\"356.294922\" xlink:href=\"#DejaVuSans-110\"/>\n      <use x=\"419.673828\" xlink:href=\"#DejaVuSans-99\"/>\n      <use x=\"474.654297\" xlink:href=\"#DejaVuSans-101\"/>\n      <use x=\"536.177734\" xlink:href=\"#DejaVuSans-32\"/>\n      <use x=\"567.964844\" xlink:href=\"#DejaVuSans-115\"/>\n      <use x=\"620.064453\" xlink:href=\"#DejaVuSans-99\"/>\n      <use x=\"675.044922\" xlink:href=\"#DejaVuSans-111\"/>\n      <use x=\"736.226562\" xlink:href=\"#DejaVuSans-114\"/>\n      <use x=\"775.089844\" xlink:href=\"#DejaVuSans-101\"/>\n     </g>\n    </g>\n   </g>\n   <g id=\"line2d_23\">\n    <path clip-path=\"url(#p41e03f7c36)\" d=\"M 79.378636 375.676115 \nL 180.833182 390.100824 \nL 282.287727 350.271169 \nL 383.742273 93.472465 \nL 485.196818 44.173551 \nL 586.651364 78.060805 \n\" style=\"fill:none;stroke:#0000ff;stroke-linecap:square;stroke-width:1.5;\"/>\n    <defs>\n     <path d=\"M 0 1.5 \nC 0.397805 1.5 0.77937 1.341951 1.06066 1.06066 \nC 1.341951 0.77937 1.5 0.397805 1.5 0 \nC 1.5 -0.397805 1.341951 -0.77937 1.06066 -1.06066 \nC 0.77937 -1.341951 0.397805 -1.5 0 -1.5 \nC -0.397805 -1.5 -0.77937 -1.341951 -1.06066 -1.06066 \nC -1.341951 -0.77937 -1.5 -0.397805 -1.5 0 \nC -1.5 0.397805 -1.341951 0.77937 -1.06066 1.06066 \nC -0.77937 1.341951 -0.397805 1.5 0 1.5 \nz\n\" id=\"md5d39a3999\" style=\"stroke:#0000ff;\"/>\n    </defs>\n    <g clip-path=\"url(#p41e03f7c36)\">\n     <use style=\"fill:#0000ff;stroke:#0000ff;\" x=\"79.378636\" xlink:href=\"#md5d39a3999\" y=\"375.676115\"/>\n     <use style=\"fill:#0000ff;stroke:#0000ff;\" x=\"180.833182\" xlink:href=\"#md5d39a3999\" y=\"390.100824\"/>\n     <use style=\"fill:#0000ff;stroke:#0000ff;\" x=\"282.287727\" xlink:href=\"#md5d39a3999\" y=\"350.271169\"/>\n     <use style=\"fill:#0000ff;stroke:#0000ff;\" x=\"383.742273\" xlink:href=\"#md5d39a3999\" y=\"93.472465\"/>\n     <use style=\"fill:#0000ff;stroke:#0000ff;\" x=\"485.196818\" xlink:href=\"#md5d39a3999\" y=\"44.173551\"/>\n     <use style=\"fill:#0000ff;stroke:#0000ff;\" x=\"586.651364\" xlink:href=\"#md5d39a3999\" y=\"78.060805\"/>\n    </g>\n   </g>\n   <g id=\"patch_3\">\n    <path d=\"M 54.015 407.397187 \nL 54.015 26.877187 \n\" style=\"fill:none;stroke:#ffffff;stroke-linecap:square;stroke-linejoin:miter;\"/>\n   </g>\n   <g id=\"patch_4\">\n    <path d=\"M 612.015 407.397187 \nL 612.015 26.877187 \n\" style=\"fill:none;stroke:#ffffff;stroke-linecap:square;stroke-linejoin:miter;\"/>\n   </g>\n   <g id=\"patch_5\">\n    <path d=\"M 54.015 407.397187 \nL 612.015 407.397187 \n\" style=\"fill:none;stroke:#ffffff;stroke-linecap:square;stroke-linejoin:miter;\"/>\n   </g>\n   <g id=\"patch_6\">\n    <path d=\"M 54.015 26.877187 \nL 612.015 26.877187 \n\" style=\"fill:none;stroke:#ffffff;stroke-linecap:square;stroke-linejoin:miter;\"/>\n   </g>\n   <g id=\"text_14\">\n    <!-- Choosing The Number of Topics Based on The Coherence Score -->\n    <defs>\n     <path d=\"M 45.40625 27.984375 \nQ 45.40625 37.75 41.375 43.109375 \nQ 37.359375 48.484375 30.078125 48.484375 \nQ 22.859375 48.484375 18.828125 43.109375 \nQ 14.796875 37.75 14.796875 27.984375 \nQ 14.796875 18.265625 18.828125 12.890625 \nQ 22.859375 7.515625 30.078125 7.515625 \nQ 37.359375 7.515625 41.375 12.890625 \nQ 45.40625 18.265625 45.40625 27.984375 \nz\nM 54.390625 6.78125 \nQ 54.390625 -7.171875 48.1875 -13.984375 \nQ 42 -20.796875 29.203125 -20.796875 \nQ 24.46875 -20.796875 20.265625 -20.09375 \nQ 16.0625 -19.390625 12.109375 -17.921875 \nL 12.109375 -9.1875 \nQ 16.0625 -11.328125 19.921875 -12.34375 \nQ 23.78125 -13.375 27.78125 -13.375 \nQ 36.625 -13.375 41.015625 -8.765625 \nQ 45.40625 -4.15625 45.40625 5.171875 \nL 45.40625 9.625 \nQ 42.625 4.78125 38.28125 2.390625 \nQ 33.9375 0 27.875 0 \nQ 17.828125 0 11.671875 7.65625 \nQ 5.515625 15.328125 5.515625 27.984375 \nQ 5.515625 40.671875 11.671875 48.328125 \nQ 17.828125 56 27.875 56 \nQ 33.9375 56 38.28125 53.609375 \nQ 42.625 51.21875 45.40625 46.390625 \nL 45.40625 54.6875 \nL 54.390625 54.6875 \nz\n\" id=\"DejaVuSans-103\"/>\n     <path d=\"M 48.6875 27.296875 \nQ 48.6875 37.203125 44.609375 42.84375 \nQ 40.53125 48.484375 33.40625 48.484375 \nQ 26.265625 48.484375 22.1875 42.84375 \nQ 18.109375 37.203125 18.109375 27.296875 \nQ 18.109375 17.390625 22.1875 11.75 \nQ 26.265625 6.109375 33.40625 6.109375 \nQ 40.53125 6.109375 44.609375 11.75 \nQ 48.6875 17.390625 48.6875 27.296875 \nz\nM 18.109375 46.390625 \nQ 20.953125 51.265625 25.265625 53.625 \nQ 29.59375 56 35.59375 56 \nQ 45.5625 56 51.78125 48.09375 \nQ 58.015625 40.1875 58.015625 27.296875 \nQ 58.015625 14.40625 51.78125 6.484375 \nQ 45.5625 -1.421875 35.59375 -1.421875 \nQ 29.59375 -1.421875 25.265625 0.953125 \nQ 20.953125 3.328125 18.109375 8.203125 \nL 18.109375 0 \nL 9.078125 0 \nL 9.078125 75.984375 \nL 18.109375 75.984375 \nz\n\" id=\"DejaVuSans-98\"/>\n     <path d=\"M 37.109375 75.984375 \nL 37.109375 68.5 \nL 28.515625 68.5 \nQ 23.6875 68.5 21.796875 66.546875 \nQ 19.921875 64.59375 19.921875 59.515625 \nL 19.921875 54.6875 \nL 34.71875 54.6875 \nL 34.71875 47.703125 \nL 19.921875 47.703125 \nL 19.921875 0 \nL 10.890625 0 \nL 10.890625 47.703125 \nL 2.296875 47.703125 \nL 2.296875 54.6875 \nL 10.890625 54.6875 \nL 10.890625 58.5 \nQ 10.890625 67.625 15.140625 71.796875 \nQ 19.390625 75.984375 28.609375 75.984375 \nz\n\" id=\"DejaVuSans-102\"/>\n     <path d=\"M 19.671875 34.8125 \nL 19.671875 8.109375 \nL 35.5 8.109375 \nQ 43.453125 8.109375 47.28125 11.40625 \nQ 51.125 14.703125 51.125 21.484375 \nQ 51.125 28.328125 47.28125 31.5625 \nQ 43.453125 34.8125 35.5 34.8125 \nz\nM 19.671875 64.796875 \nL 19.671875 42.828125 \nL 34.28125 42.828125 \nQ 41.5 42.828125 45.03125 45.53125 \nQ 48.578125 48.25 48.578125 53.8125 \nQ 48.578125 59.328125 45.03125 62.0625 \nQ 41.5 64.796875 34.28125 64.796875 \nz\nM 9.8125 72.90625 \nL 35.015625 72.90625 \nQ 46.296875 72.90625 52.390625 68.21875 \nQ 58.5 63.53125 58.5 54.890625 \nQ 58.5 48.1875 55.375 44.234375 \nQ 52.25 40.28125 46.1875 39.3125 \nQ 53.46875 37.75 57.5 32.78125 \nQ 61.53125 27.828125 61.53125 20.40625 \nQ 61.53125 10.640625 54.890625 5.3125 \nQ 48.25 0 35.984375 0 \nL 9.8125 0 \nz\n\" id=\"DejaVuSans-66\"/>\n     <path d=\"M 34.28125 27.484375 \nQ 23.390625 27.484375 19.1875 25 \nQ 14.984375 22.515625 14.984375 16.5 \nQ 14.984375 11.71875 18.140625 8.90625 \nQ 21.296875 6.109375 26.703125 6.109375 \nQ 34.1875 6.109375 38.703125 11.40625 \nQ 43.21875 16.703125 43.21875 25.484375 \nL 43.21875 27.484375 \nz\nM 52.203125 31.203125 \nL 52.203125 0 \nL 43.21875 0 \nL 43.21875 8.296875 \nQ 40.140625 3.328125 35.546875 0.953125 \nQ 30.953125 -1.421875 24.3125 -1.421875 \nQ 15.921875 -1.421875 10.953125 3.296875 \nQ 6 8.015625 6 15.921875 \nQ 6 25.140625 12.171875 29.828125 \nQ 18.359375 34.515625 30.609375 34.515625 \nL 43.21875 34.515625 \nL 43.21875 35.40625 \nQ 43.21875 41.609375 39.140625 45 \nQ 35.0625 48.390625 27.6875 48.390625 \nQ 23 48.390625 18.546875 47.265625 \nQ 14.109375 46.140625 10.015625 43.890625 \nL 10.015625 52.203125 \nQ 14.9375 54.109375 19.578125 55.046875 \nQ 24.21875 56 28.609375 56 \nQ 40.484375 56 46.34375 49.84375 \nQ 52.203125 43.703125 52.203125 31.203125 \nz\n\" id=\"DejaVuSans-97\"/>\n     <path d=\"M 45.40625 46.390625 \nL 45.40625 75.984375 \nL 54.390625 75.984375 \nL 54.390625 0 \nL 45.40625 0 \nL 45.40625 8.203125 \nQ 42.578125 3.328125 38.25 0.953125 \nQ 33.9375 -1.421875 27.875 -1.421875 \nQ 17.96875 -1.421875 11.734375 6.484375 \nQ 5.515625 14.40625 5.515625 27.296875 \nQ 5.515625 40.1875 11.734375 48.09375 \nQ 17.96875 56 27.875 56 \nQ 33.9375 56 38.25 53.625 \nQ 42.578125 51.265625 45.40625 46.390625 \nz\nM 14.796875 27.296875 \nQ 14.796875 17.390625 18.875 11.75 \nQ 22.953125 6.109375 30.078125 6.109375 \nQ 37.203125 6.109375 41.296875 11.75 \nQ 45.40625 17.390625 45.40625 27.296875 \nQ 45.40625 37.203125 41.296875 42.84375 \nQ 37.203125 48.484375 30.078125 48.484375 \nQ 22.953125 48.484375 18.875 42.84375 \nQ 14.796875 37.203125 14.796875 27.296875 \nz\n\" id=\"DejaVuSans-100\"/>\n     <path d=\"M 53.515625 70.515625 \nL 53.515625 60.890625 \nQ 47.90625 63.578125 42.921875 64.890625 \nQ 37.9375 66.21875 33.296875 66.21875 \nQ 25.25 66.21875 20.875 63.09375 \nQ 16.5 59.96875 16.5 54.203125 \nQ 16.5 49.359375 19.40625 46.890625 \nQ 22.3125 44.4375 30.421875 42.921875 \nL 36.375 41.703125 \nQ 47.40625 39.59375 52.65625 34.296875 \nQ 57.90625 29 57.90625 20.125 \nQ 57.90625 9.515625 50.796875 4.046875 \nQ 43.703125 -1.421875 29.984375 -1.421875 \nQ 24.8125 -1.421875 18.96875 -0.25 \nQ 13.140625 0.921875 6.890625 3.21875 \nL 6.890625 13.375 \nQ 12.890625 10.015625 18.65625 8.296875 \nQ 24.421875 6.59375 29.984375 6.59375 \nQ 38.421875 6.59375 43.015625 9.90625 \nQ 47.609375 13.234375 47.609375 19.390625 \nQ 47.609375 24.75 44.3125 27.78125 \nQ 41.015625 30.8125 33.5 32.328125 \nL 27.484375 33.5 \nQ 16.453125 35.6875 11.515625 40.375 \nQ 6.59375 45.0625 6.59375 53.421875 \nQ 6.59375 63.09375 13.40625 68.65625 \nQ 20.21875 74.21875 32.171875 74.21875 \nQ 37.3125 74.21875 42.625 73.28125 \nQ 47.953125 72.359375 53.515625 70.515625 \nz\n\" id=\"DejaVuSans-83\"/>\n    </defs>\n    <g transform=\"translate(47.729062 20.877187)scale(0.18 -0.18)\">\n     <use xlink:href=\"#DejaVuSans-67\"/>\n     <use x=\"69.824219\" xlink:href=\"#DejaVuSans-104\"/>\n     <use x=\"133.203125\" xlink:href=\"#DejaVuSans-111\"/>\n     <use x=\"194.384766\" xlink:href=\"#DejaVuSans-111\"/>\n     <use x=\"255.566406\" xlink:href=\"#DejaVuSans-115\"/>\n     <use x=\"307.666016\" xlink:href=\"#DejaVuSans-105\"/>\n     <use x=\"335.449219\" xlink:href=\"#DejaVuSans-110\"/>\n     <use x=\"398.828125\" xlink:href=\"#DejaVuSans-103\"/>\n     <use x=\"462.304688\" xlink:href=\"#DejaVuSans-32\"/>\n     <use x=\"494.091797\" xlink:href=\"#DejaVuSans-84\"/>\n     <use x=\"555.175781\" xlink:href=\"#DejaVuSans-104\"/>\n     <use x=\"618.554688\" xlink:href=\"#DejaVuSans-101\"/>\n     <use x=\"680.078125\" xlink:href=\"#DejaVuSans-32\"/>\n     <use x=\"711.865234\" xlink:href=\"#DejaVuSans-78\"/>\n     <use x=\"786.669922\" xlink:href=\"#DejaVuSans-117\"/>\n     <use x=\"850.048828\" xlink:href=\"#DejaVuSans-109\"/>\n     <use x=\"947.460938\" xlink:href=\"#DejaVuSans-98\"/>\n     <use x=\"1010.9375\" xlink:href=\"#DejaVuSans-101\"/>\n     <use x=\"1072.460938\" xlink:href=\"#DejaVuSans-114\"/>\n     <use x=\"1113.574219\" xlink:href=\"#DejaVuSans-32\"/>\n     <use x=\"1145.361328\" xlink:href=\"#DejaVuSans-111\"/>\n     <use x=\"1206.542969\" xlink:href=\"#DejaVuSans-102\"/>\n     <use x=\"1241.748047\" xlink:href=\"#DejaVuSans-32\"/>\n     <use x=\"1273.535156\" xlink:href=\"#DejaVuSans-84\"/>\n     <use x=\"1317.619141\" xlink:href=\"#DejaVuSans-111\"/>\n     <use x=\"1378.800781\" xlink:href=\"#DejaVuSans-112\"/>\n     <use x=\"1442.277344\" xlink:href=\"#DejaVuSans-105\"/>\n     <use x=\"1470.060547\" xlink:href=\"#DejaVuSans-99\"/>\n     <use x=\"1525.041016\" xlink:href=\"#DejaVuSans-115\"/>\n     <use x=\"1577.140625\" xlink:href=\"#DejaVuSans-32\"/>\n     <use x=\"1608.927734\" xlink:href=\"#DejaVuSans-66\"/>\n     <use x=\"1677.53125\" xlink:href=\"#DejaVuSans-97\"/>\n     <use x=\"1738.810547\" xlink:href=\"#DejaVuSans-115\"/>\n     <use x=\"1790.910156\" xlink:href=\"#DejaVuSans-101\"/>\n     <use x=\"1852.433594\" xlink:href=\"#DejaVuSans-100\"/>\n     <use x=\"1915.910156\" xlink:href=\"#DejaVuSans-32\"/>\n     <use x=\"1947.697266\" xlink:href=\"#DejaVuSans-111\"/>\n     <use x=\"2008.878906\" xlink:href=\"#DejaVuSans-110\"/>\n     <use x=\"2072.257812\" xlink:href=\"#DejaVuSans-32\"/>\n     <use x=\"2104.044922\" xlink:href=\"#DejaVuSans-84\"/>\n     <use x=\"2165.128906\" xlink:href=\"#DejaVuSans-104\"/>\n     <use x=\"2228.507812\" xlink:href=\"#DejaVuSans-101\"/>\n     <use x=\"2290.03125\" xlink:href=\"#DejaVuSans-32\"/>\n     <use x=\"2321.818359\" xlink:href=\"#DejaVuSans-67\"/>\n     <use x=\"2391.642578\" xlink:href=\"#DejaVuSans-111\"/>\n     <use x=\"2452.824219\" xlink:href=\"#DejaVuSans-104\"/>\n     <use x=\"2516.203125\" xlink:href=\"#DejaVuSans-101\"/>\n     <use x=\"2577.726562\" xlink:href=\"#DejaVuSans-114\"/>\n     <use x=\"2616.589844\" xlink:href=\"#DejaVuSans-101\"/>\n     <use x=\"2678.113281\" xlink:href=\"#DejaVuSans-110\"/>\n     <use x=\"2741.492188\" xlink:href=\"#DejaVuSans-99\"/>\n     <use x=\"2796.472656\" xlink:href=\"#DejaVuSans-101\"/>\n     <use x=\"2857.996094\" xlink:href=\"#DejaVuSans-32\"/>\n     <use x=\"2889.783203\" xlink:href=\"#DejaVuSans-83\"/>\n     <use x=\"2953.259766\" xlink:href=\"#DejaVuSans-99\"/>\n     <use x=\"3008.240234\" xlink:href=\"#DejaVuSans-111\"/>\n     <use x=\"3069.421875\" xlink:href=\"#DejaVuSans-114\"/>\n     <use x=\"3108.285156\" xlink:href=\"#DejaVuSans-101\"/>\n    </g>\n   </g>\n  </g>\n </g>\n <defs>\n  <clipPath id=\"p41e03f7c36\">\n   <rect height=\"380.52\" width=\"558\" x=\"54.015\" y=\"26.877187\"/>\n  </clipPath>\n </defs>\n</svg>\n",
      "image/png": "[encoded data removed]"
     },
     "metadata": {}
    }
   ],
   "source": [
    "x = range(start, stop)\n",
    "plt.figure(figsize=(10,7))\n",
    "plt.style.use('ggplot')\n",
    "plt.plot(x, values, color = \"blue\",marker=\".\")\n",
    "plt.xlabel(\"Num Topics\", size=14)\n",
    "plt.ylabel(\"Coherence score\", size=14)\n",
    "plt.title('Choosing The Number of Topics Based on The Coherence Score',size=18)\n",
    "plt.show()"
   ]
  },
  {
   "source": [
    "## LDA model"
   ],
   "cell_type": "markdown",
   "metadata": {}
  },
  {
   "cell_type": "code",
   "execution_count": 17,
   "metadata": {},
   "outputs": [],
   "source": [
    "k_topics = 4Phone and Online Booking\n",
    "rs = 42"
   ]
  },
  {
   "cell_type": "code",
   "execution_count": 18,
   "metadata": {},
   "outputs": [],
   "source": [
    "# Build LDA model\n",
    "lda_model = gensim.models.ldamodel.LdaModel(corpus=corpus,\n",
    "                                           id2word=id2word,\n",
    "                                           num_topics=k_topics, \n",
    "                                           random_state=rs,\n",
    "                                           update_every=1,\n",
    "                                           chunksize=10,\n",
    "                                           passes=10,\n",
    "                                           alpha='auto',\n",
    "                                           eta='auto',\n",
    "                                           iterations=125,\n",
    "                                           per_word_topics=True)\n",
    "doc_lda = lda_model[corpus]"
   ]
  },
  {
   "cell_type": "code",
   "execution_count": 19,
   "metadata": {},
   "outputs": [
    {
     "output_type": "stream",
     "name": "stdout",
     "text": [
      "[(0,\n  '0.037*\"flight\" + 0.036*\"hold\" + 0.032*\"phone\" + 0.024*\"im\" + 0.024*\"one\" + '\n  '0.023*\"bag\" + 0.020*\"hour\" + 0.017*\"ive\" + 0.015*\"book\" + 0.013*\"change\"'),\n (1,\n  '0.137*\"call\" + 0.034*\"agent\" + 0.029*\"airport\" + 0.025*\"luggage\" + '\n  '0.025*\"line\" + 0.020*\"crew\" + 0.019*\"email\" + 0.018*\"response\" + '\n  '0.016*\"try\" + 0.014*\"baggage\"'),\n (2,\n  '0.097*\"cancel\" + 0.047*\"service\" + 0.034*\"customer\" + 0.034*\"delay\" + '\n  '0.033*\"late\" + 0.027*\"make\" + 0.019*\"go\" + 0.015*\"ever\" + 0.015*\"customers\" '\n  '+ 0.014*\"system\"'),\n (3,\n  '0.136*\"\" + 0.052*\"get\" + 0.025*\"wait\" + 0.021*\"aa\" + 0.018*\"time\" + '\n  '0.013*\"hrs\" + 0.012*\"ticket\" + 0.011*\"gate\" + 0.011*\"seat\" + 0.010*\"would\"')]\n"
     ]
    }
   ],
   "source": [
    "from pprint import pprint\n",
    "pprint(lda_model.print_topics())"
   ]
  },
  {
   "cell_type": "code",
   "execution_count": 20,
   "metadata": {},
   "outputs": [],
   "source": [
    "from string import punctuation\n",
    "class ProcessTweet():\n",
    "\n",
    "    def __init__(self,  stemm = False, lemm =True):\n",
    "        #self.tweet_ = tweet\n",
    "        self.stemm_ = stemm\n",
    "        self.lemm_ = lemm\n",
    "        self.stemmer_ = nltk.stem.SnowballStemmer('english')\n",
    "        self.lemmatizer_ = nltk.stem.WordNetLemmatizer()\n",
    "        self.vect_wc = feature_extraction.text.CountVectorizer(max_features = 10000, ngram_range=(1,2))\n",
    "        self.vect_tfidf = feature_extraction.text.TfidfVectorizer(max_features = 10000, ngram_range=(1,2))\n",
    "        self.stopwords_eng_ = nltk.corpus.stopwords.words('english')\n",
    "\n",
    "    def preprocess(self, tweet):\n",
    "        clean_tweet = self.clean_text(tweet, stemm= self.stemm_, lemm = self.lemm_ ,stop_words = self.stopwords_eng_)\n",
    "        \n",
    "        return clean_tweet\n",
    "\n",
    "    def clean_text(self, observation, stemm, lemm, stop_words):\n",
    "        #Clean tweets (removing punctuations and converting everything to lowercase)\n",
    "        observation = re.sub(r'[^\\$\\w\\s]', '', str(observation).lower().strip())\n",
    "        observation = re.sub(r'^RT[\\s]+', '', observation)\n",
    "        observation = re.sub(r'https?:\\/\\/.*[\\r\\n]*', '', observation) # removing hyperlinks\n",
    "        observation = re.sub(r'#', '', observation) #removing hash # sign\n",
    "\n",
    "        #Tokenize (converting strings to lists)\n",
    "        tokens_list = observation.split()\n",
    "        tokenizer = nltk.tokenize.TweetTokenizer(preserve_case=False, strip_handles=True,\n",
    "                               reduce_len=True)\n",
    "        tokens_list = tokenizer.tokenize(observation)\n",
    "        #Remove the Stopwords\n",
    "        stop_words = set(stop_words)\n",
    "        stop_words.update([\"american\", \"air\",\"airline\",\"thank\",\"united\",\"us\",\"airways\",\"virgin\",\"america\",\"jetblue\",\"youre\",\"extremely\",\n",
    "                     \"usairway\",\"usairways\",\"flight\",\"americanair\",\"southwestair\",\"southwestairlines\",\"arbitrarily\",\"dream\",\"crazy\",\n",
    "                     \"southwestairway\",\"southwestairways\",\"virginamerica\",\"really\",\"will\",\"going\",\"thanks\",\"thankyou\",\"passengersdont\",\n",
    "                     \"please\",\"got\",\"let\",\"take\",\"help\",\"already\",\"never\",\"now\",\"told\",\"guy\",\"new\",\"sure\",\"still\",\"amp\",\"continue\",\n",
    "                     \"plane\",\"tell\",\"ye\",\"trying\",\"yes\",\"guy\",\"much\",\"appreciate\", \"thx\",\"back\",\"ok\",\"good\",\"credit\",\"aacom\",\n",
    "                     \"flying\",\"love\",\"great\",\"awesome\",\"see\",\"nice\",\"alway\",\"httptcojwl26g6lrw\",\"dontflythem\",\"motherinlaw\",\"night\",\n",
    "                     \"nogearnotraining\",\"seriously\",\"didnt\",\"coudnt\",\"cant\",\"wont\",\"dont\",\"wat\",\"buffaloniagara\",\"hasshe\",\"morning\",\n",
    "                     \"woulda\",\"people\",\"try\",\"youve\",\"youd\",\"yours\",\"flightled\",\"tomorrow\",\"today\",\"wat\",\"jfkyou\",\"flite\",\"cause\",\n",
    "                     \"flightr\",\"flight\",\"need\",\"hours\",\"nooooo\",\"like\",\"doesnt\",\"right\",\"talk\",\"tweet\",\"mention\",\"pbijfk\",\"ridiculuous\",\n",
    "                     \"wasnt\",\"suppose\",\"want\",\"understand\",\"come\",\"work\",\"worse\",\"treat\",\"think\",\"know\",\"worst\",\"paulo\",\"staduim\",\n",
    "                     \"wouldnt\",\"stay\",\"away\",\"wont\",\"werent\",\"happen\",\"sorry\",\"havent\",\"tonight\",\"drive\",\"life\",\"thing\",\"aa951\",\n",
    "                     \"whats\",\"theyre\",\"better\",\"thats\",\"allow\",\"hope\",\"stop\",\"cool\",\"niece\",\"happy\",\"word\",\"customercant\",\n",
    "                     \"suck\",\"sunday\",\"monday\",\"tuesday\",\"wednesday\",\"thursday\",\"friday\",\"saturday\",\"weekend\",\"ruin\",\"shouldnt\",\n",
    "                     \"miami\",\"los angeles\",\"new york\",\"chicago\",\"dallas\",\"apparently\",\"itover\",\"someones\",\"savannah\",\"lucymay\",\n",
    "                     \"betterother\",\"instead\",\"look\",\"hopefully\",\"yesterday\",\"antonio\",\"unacceptable\",\"folks\",\"record\",'arent',\n",
    "                     \"miss\",\"hang\",\"wrong\",\"stick\",\"grind\",\"tarmac\",\"theres\",\"forget\",\"terrible\",\"clothe\",\"terrible\",\"break\",\n",
    "                     \"actually\",\"frustrate\",\"correct\",\"ridiculous\",\"expect\",\"different\",\"pathetic\",\"bother\",\"follow\",\"fault\",\n",
    "                     \"impossible\",\"point\",\"cover\",\"person\",\"ask\",\"speak\",\"things\",\"earlier\",\"mean\",\"select\",\"minutes\",\n",
    "                     \"unite\",\"horrible\",\"country\",\"leave\",\"speak\",\"apologize\",\"faster\",\"hop\",\"confuse\",\"lose\",\"flightd\",\"hear\",\n",
    "                     \"literally\",\"years\",\"surprise\",\"bump\",\"fail\",\"compensate\",\"hand\",\"helpful\",\"upset\",\"friend\",\"excuse\",\"claim\",\n",
    "                     \"situation\",\"multiple\",\"weather\",\"choose\",\"company\",\"believe\",\"question\",\"kick\",\"anymore\",\"awful\",\"delta\",\n",
    "                      \"dozen\",\"medical\",\"completely\",\"finally\", \"waste\",\"shock\",\"annoy\",\"maybe\",\"strand\",\"mess\",\"finally\",\n",
    "                      \"plan\",\"place\",\"apology\",\"center\",\"plan\",\"twitter\",\"promise\",\"prefer\",\"count\",\"maybe\",\"shock\",\"longer\",\"meet\",\n",
    "                         \"important\",\"drop\"])\n",
    "        if stop_words is not None:\n",
    "            stop_text = []\n",
    "            for word in tokens_list: \n",
    "                if (word not in stop_words and  # remove stopwords\n",
    "        word not in punctuation ): # remove punctuation\n",
    "                    word_ = ''\n",
    "                    for char in word:\n",
    "                        if (char not in punctuation and\n",
    "                            char not in ['1','2','3','4','5','6','7','8','9','0','',' ']):\n",
    "                            word_ = \"\".join((word_,char))\n",
    "                    stop_text.append(word_)\n",
    "                    tokens_list = stop_text.copy()\n",
    "        if stemm == True:\n",
    "            stem_text = []\n",
    "            for word in tokens_list: # Go through every word in the tokens list\n",
    "                # Init the Stemmer\n",
    "                stem_word = self.stemmer_.stem(word)\n",
    "                stem_text.append(stem_word)\n",
    "            tokens_list = stem_text.copy()\n",
    "        if lemm == True:\n",
    "            lem_text = []\n",
    "            for word in tokens_list: # Go through every word in the tokens list\n",
    "                # Init the Wordnet Lemmatizer\n",
    "                lem_word = self.lemmatizer_.lemmatize(word)\n",
    "                lem_text.append(lem_word)\n",
    "            tokens_list = lem_text.copy()\n",
    "        return tokens_list"
   ]
  },
  {
   "cell_type": "code",
   "execution_count": 21,
   "metadata": {},
   "outputs": [
    {
     "output_type": "execute_result",
     "data": {
      "text/plain": [
       "['mad']"
      ]
     },
     "metadata": {},
     "execution_count": 21
    }
   ],
   "source": [
    "id2word = corpora.Dictionary.load('id2word.dict')\n",
    "\n",
    "message = '''United is the worst all the people are mad!!!\n",
    "                    '''\n",
    "clean_class = ProcessTweet()\n",
    "clean_tweet = clean_class.preprocess(message)\n",
    "clean_tweet"
   ]
  },
  {
   "cell_type": "code",
   "execution_count": 22,
   "metadata": {},
   "outputs": [],
   "source": [
    "bow_vector = id2word.doc2bow(clean_tweet)\n",
    "result = lda_model.get_document_topics(bow_vector)\n",
    "resultdict = dict(result)"
   ]
  },
  {
   "cell_type": "code",
   "execution_count": 23,
   "metadata": {},
   "outputs": [
    {
     "output_type": "execute_result",
     "data": {
      "text/plain": [
       "{0: 0.2636501, 1: 0.12838125, 2: 0.18912145, 3: 0.4188472}"
      ]
     },
     "metadata": {},
     "execution_count": 23
    }
   ],
   "source": [
    "resultdict"
   ]
  },
  {
   "cell_type": "code",
   "execution_count": 26,
   "metadata": {},
   "outputs": [
    {
     "output_type": "stream",
     "name": "stdout",
     "text": [
      "Predicted topic:  4\nProbability Score:  0.4188472\nCancelled Flight and Services\n\n\nScore: 0.2636500895023346\n Topic: 1\n Keywords:0.037*\"flight\" + 0.036*\"hold\" + 0.032*\"phone\" + 0.024*\"im\" + 0.024*\"one\" + 0.023*\"bag\" + 0.020*\"hour\" + 0.017*\"ive\" + 0.015*\"book\" + 0.013*\"change\" \n\nScore: 0.12838125228881836\n Topic: 2\n Keywords:0.137*\"call\" + 0.034*\"agent\" + 0.029*\"airport\" + 0.025*\"luggage\" + 0.025*\"line\" + 0.020*\"crew\" + 0.019*\"email\" + 0.018*\"response\" + 0.016*\"try\" + 0.014*\"baggage\" \n\nScore: 0.18912145495414734\n Topic: 3\n Keywords:0.097*\"cancel\" + 0.047*\"service\" + 0.034*\"customer\" + 0.034*\"delay\" + 0.033*\"late\" + 0.027*\"make\" + 0.019*\"go\" + 0.015*\"ever\" + 0.015*\"customers\" + 0.014*\"system\" \n\nScore: 0.4188472032546997\n Topic: 4\n Keywords:0.136*\"\" + 0.052*\"get\" + 0.025*\"wait\" + 0.021*\"aa\" + 0.018*\"time\" + 0.013*\"hrs\" + 0.012*\"ticket\" + 0.011*\"gate\" + 0.011*\"seat\" + 0.010*\"would\" \n\n"
     ]
    }
   ],
   "source": [
    "orddict = sorted(resultdict, key=resultdict.get, reverse=True)\n",
    "Keymax = 1\n",
    "if resultdict[orddict[0]]-resultdict[orddict[1]] <=.08:\n",
    "    Keymax +=orddict[1]\n",
    "    print(\"Predicted topic: \",orddict[1]+1)\n",
    "    print(\"Probability Score: \",resultdict[orddict[1]])\n",
    "else:\n",
    "    Keymax +=orddict[0]\n",
    "    print(\"Predicted topic: \",orddict[0]+1)\n",
    "    print(\"Probability Score: \",resultdict[orddict[0]])\n",
    "\n",
    "#Keymax = max(resultdict, key=resultdict.get)+1\n",
    "#print(\"Predicted Topic :\", Keymax) \n",
    "\n",
    "\n",
    "if Keymax == 1:\n",
    "    print('Phone and Online Booking')\n",
    "elif Keymax == 2:\n",
    "    print('Baggage Problem')\n",
    "elif Keymax == 3:\n",
    "    print('Delay and Customer Service')\n",
    "elif Keymax == 4:\n",
    "    print('Cancelled Flight and Services')\n",
    "else:\n",
    "    print('Customer Experience')\n",
    "print(\"\\n\")\n",
    "\n",
    "for index, score in resultdict.items():\n",
    "    print(\"Score: {}\\n Topic: {}\\n Keywords:{} \\n\".format(score, index+1, lda_model.print_topic(index)))"
   ]
  },
  {
   "source": [
    "## Visualize "
   ],
   "cell_type": "markdown",
   "metadata": {}
  },
  {
   "cell_type": "code",
   "execution_count": 31,
   "metadata": {},
   "outputs": [
    {
     "output_type": "execute_result",
     "data": {
      "text/plain": [
       "PreparedData(topic_coordinates=              x         y  topics  cluster       Freq\n",
       "topic                                                \n",
       "0     -0.129179  0.232350       1        1  26.358200\n",
       "1     -0.091155 -0.135493       2        1  12.831061\n",
       "2     -0.074299 -0.125229       3        1  18.895809\n",
       "3      0.294633  0.028372       4        1  41.914930, topic_info=           Term         Freq        Total Category  logprob  loglift\n",
       "10               4265.000000  4265.000000  Default  30.0000  30.0000\n",
       "48         call  1319.000000  1319.000000  Default  29.0000  29.0000\n",
       "161      cancel  1373.000000  1373.000000  Default  28.0000  28.0000\n",
       "70          get  1628.000000  1628.000000  Default  27.0000  27.0000\n",
       "151     service   662.000000   662.000000  Default  26.0000  26.0000\n",
       "...         ...          ...          ...      ...      ...      ...\n",
       "787        rude   174.927428   175.665372   Topic4  -5.1881   0.8653\n",
       "26         last   166.399350   167.116244   Topic4  -5.2380   0.8652\n",
       "366        days   156.290701   156.994806   Topic4  -5.3007   0.8650\n",
       "33    available   162.058543   162.868879   Topic4  -5.2645   0.8645\n",
       "2129         aa   650.362123   874.721532   Topic4  -3.8749   0.5732\n",
       "\n",
       "[157 rows x 6 columns], token_table=      Topic      Freq     Term\n",
       "term                          \n",
       "10        4  0.999874         \n",
       "2129      1  0.139473       aa\n",
       "2129      2  0.018292       aa\n",
       "2129      3  0.099460       aa\n",
       "2129      4  0.743094       aa\n",
       "...     ...       ...      ...\n",
       "476       1  0.998890      way\n",
       "189       2  0.994375  website\n",
       "584       3  0.991131     well\n",
       "15        4  0.998913    would\n",
       "219       2  0.994168      yet\n",
       "\n",
       "[138 rows x 3 columns], R=30, lambda_step=0.01, plot_opts={'xlab': 'PC1', 'ylab': 'PC2'}, topic_order=[1, 2, 3, 4])"
      ],
      "text/html": "\n<link rel=\"stylesheet\" type=\"text/css\" href=\"https://cdn.rawgit.com/bmabey/pyLDAvis/files/ldavis.v1.0.0.css\">\n\n\n<div id=\"ldavis_el458031402747134318882124656377\"></div>\n<script type=\"text/javascript\">\n\nvar ldavis_el458031402747134318882124656377_data = {\"mdsDat\": {\"x\": [-0.12917872947363562, -0.09115547565575284, -0.07429886537309269, 0.2946330705024815], \"y\": [0.23235021255907312, -0.13549335641412766, -0.12522899844585472, 0.028372142300909092], \"topics\": [1, 2, 3, 4], \"cluster\": [1, 1, 1, 1], \"Freq\": [26.358200217462812, 12.831060773125358, 18.895808663169234, 41.9149303462426]}, \"tinfo\": {\"Term\": [\"\", \"call\", \"cancel\", \"get\", \"service\", \"flight\", \"hold\", \"phone\", \"customer\", \"delay\", \"late\", \"agent\", \"wait\", \"im\", \"make\", \"one\", \"bag\", \"airport\", \"hour\", \"luggage\", \"line\", \"time\", \"go\", \"ive\", \"crew\", \"book\", \"email\", \"ever\", \"customers\", \"response\", \"flight\", \"hold\", \"phone\", \"im\", \"one\", \"bag\", \"hour\", \"ive\", \"book\", \"change\", \"answer\", \"leave\", \"even\", \"way\", \"number\", \"hang\", \"issue\", \"online\", \"keep\", \"could\", \"since\", \"reservation\", \"info\", \"use\", \"staff\", \"someone\", \"nothing\", \"check\", \"reservations\", \"team\", \"load\", \"call\", \"agent\", \"airport\", \"line\", \"luggage\", \"email\", \"crew\", \"response\", \"try\", \"baggage\", \"miss\", \"yet\", \"send\", \"find\", \"arrive\", \"another\", \"website\", \"be\", \"passenger\", \"receive\", \"via\", \"status\", \"break\", \"hear\", \"isnt\", \"message\", \"address\", \"direct\", \"st\", \"rep\", \"san\", \"cancel\", \"service\", \"customer\", \"delay\", \"late\", \"make\", \"go\", \"ever\", \"customers\", \"system\", \"rebook\", \"experience\", \"board\", \"poor\", \"well\", \"travel\", \"need\", \"land\", \"long\", \"ill\", \"help\", \"employees\", \"airlines\", \"do\", \"offer\", \"strand\", \"communication\", \"money\", \"best\", \"job\", \"pilot\", \"dfw\", \"aa\", \"\", \"get\", \"wait\", \"time\", \"hrs\", \"ticket\", \"gate\", \"seat\", \"would\", \"rebooked\", \"guy\", \"say\", \"sit\", \"agents\", \"u\", \"two\", \"stick\", \"put\", \"day\", \"home\", \"due\", \"bad\", \"flt\", \"next\", \"jfk\", \"first\", \"give\", \"rude\", \"last\", \"days\", \"available\", \"aa\"], \"Freq\": [4265.0, 1319.0, 1373.0, 1628.0, 662.0, 721.0, 700.0, 622.0, 486.0, 477.0, 460.0, 329.0, 785.0, 478.0, 379.0, 475.0, 457.0, 275.0, 387.0, 243.0, 238.0, 554.0, 266.0, 326.0, 193.0, 298.0, 180.0, 212.0, 212.0, 171.0, 720.4159385644991, 699.7651251792772, 622.0433520073325, 477.6499510358544, 474.40145404762893, 457.2246298493812, 387.06572702694467, 325.6073951837388, 297.45681916967084, 265.3767369724093, 261.165090281748, 264.65467748051725, 241.3634510092459, 243.5343272390626, 238.80233087492132, 219.23789148531534, 220.2181439489193, 209.67753974534415, 214.54942274938307, 203.6325027483028, 199.58349744415773, 158.68809795266085, 157.14677582949102, 151.95140841142663, 147.8009885047111, 140.72790490086584, 135.13354951638738, 126.81307455869675, 145.94088889695746, 134.73171720664592, 179.4004409067635, 1318.446857858658, 328.41337094876434, 274.4582015893422, 237.9939629999781, 243.16866878680045, 179.48657473063068, 192.90940136325864, 170.60346081385686, 150.77773080665932, 138.5298253750354, 125.5049637037438, 118.92672348829633, 112.98377113267735, 109.33482995553432, 104.8395588936117, 91.08414789565232, 89.72967347976929, 64.44790191712252, 69.44871800838092, 50.90513641685409, 52.003823431998505, 53.62352742514391, 51.29195299947559, 47.83184195331369, 44.03855249760199, 44.332528455236535, 53.958568364310736, 44.422358660650644, 43.90323994424974, 32.488481528905, 44.03363934993117, 1372.561040802351, 661.8238051248428, 486.0198196367286, 477.24924803794323, 459.85923268053784, 378.8197436215077, 265.56402977682205, 211.97316099837207, 211.42976906192814, 192.64005837566583, 162.87566178801237, 155.21000203597873, 146.07224030186137, 103.2007660889523, 101.18953448068002, 96.02408804121396, 100.23712520070374, 100.93355249270505, 98.36256378145282, 99.49896936509136, 81.70226514845977, 74.0538322337082, 70.89148744036068, 71.08068665669576, 68.60168623081573, 66.57759533774525, 69.77557778072786, 65.92417922901524, 60.80607205946864, 52.216323053391505, 55.98338640303765, 82.86035720881422, 87.22048353794958, 4264.818619883919, 1628.0417211970907, 784.739090871399, 554.0411305472347, 395.47635227510125, 374.8195272578884, 344.2767498479975, 338.17592155076443, 318.6321262939301, 311.0628994454347, 295.16681396016037, 283.748993881701, 263.9878861445159, 270.6935825890178, 248.75310526911258, 229.22344830914008, 227.18142009727677, 226.82879434025264, 215.0640972033899, 217.16043164943247, 207.98807659722678, 212.10523910514272, 206.42435761934084, 192.75491527904907, 224.5608014188961, 183.48493448452925, 171.87434332439975, 174.92742755384776, 166.3993498747352, 156.2907010682265, 162.0585425636222, 650.3621225429458], \"Total\": [4265.0, 1319.0, 1373.0, 1628.0, 662.0, 721.0, 700.0, 622.0, 486.0, 477.0, 460.0, 329.0, 785.0, 478.0, 379.0, 475.0, 457.0, 275.0, 387.0, 243.0, 238.0, 554.0, 266.0, 326.0, 193.0, 298.0, 180.0, 212.0, 212.0, 171.0, 721.1453095019815, 700.4945375058962, 622.7753195199876, 478.37601698322754, 475.1293595202298, 457.9426917286692, 387.79933392363864, 326.33097505368147, 298.18146046291184, 266.0958213573233, 261.90697620015095, 265.4203041657421, 242.07512909298623, 244.27119707115665, 239.53647036765426, 219.95872309419372, 220.9745595865457, 210.4052672101451, 215.29972885488053, 204.37322754165325, 200.31413839440597, 159.41927763699348, 157.89956890941562, 152.69890742270704, 148.53649489468884, 141.4453638887487, 135.86074002897726, 127.5163767413916, 146.75291670907666, 135.55164937615245, 183.08675625153836, 1319.231355692164, 329.1981901622529, 275.25434327610924, 238.7684306801063, 243.96075687230487, 180.25088277837634, 193.74820751479595, 171.3959853833576, 151.56095379843424, 139.32009654370427, 126.27236797380407, 119.69804657744936, 113.75875262093828, 110.10855959466217, 105.67675918695944, 91.84344510133877, 90.50908934052005, 65.21228756766627, 70.32152161374508, 51.6797901874564, 52.802630598006004, 54.465774480655654, 52.12189250718346, 48.63912928864822, 44.824359720090065, 45.13240747146772, 54.95989905085423, 45.33767329439134, 44.81167480090036, 33.22200029519242, 47.336653155594725, 1373.2845411291535, 662.5388079584001, 486.7377516064082, 477.97031472756197, 460.6047613363802, 379.54302102847925, 266.2826660383013, 212.69917942093446, 212.1543506445177, 193.37152805905214, 163.61125236752616, 155.93420783041427, 146.810717643145, 103.92814443644589, 101.90381740418398, 96.72571348401354, 100.97195147261547, 101.68779677441822, 99.10209680474338, 100.28182681371005, 82.46707791221922, 74.78913866573656, 71.60677363111886, 71.8168342901872, 69.32377882048999, 67.29928487400092, 70.59659370755989, 66.70012762918589, 61.54151408754217, 52.93986338815794, 56.77872698537694, 359.8737535188685, 874.7215323285686, 4265.537511798067, 1628.7626518359925, 785.4577681583495, 554.7592694732265, 396.1963889853179, 375.56069257058095, 344.98511623858707, 338.90772282590046, 319.34715228708967, 311.807016214123, 295.895064370064, 284.4534690994904, 264.70329992196406, 271.4307852168657, 249.48363162854974, 229.9464170578399, 227.91870894930818, 227.5716525957668, 215.77527224142995, 217.88263554255437, 208.70842052013109, 212.8454901633193, 207.1900541702018, 193.494991407089, 225.45419030597316, 184.21514019757578, 172.5888017119997, 175.66537208308063, 167.11624434997762, 156.9948060437929, 162.8688786475468, 874.7215323285686], \"Category\": [\"Default\", \"Default\", \"Default\", \"Default\", \"Default\", \"Default\", \"Default\", \"Default\", \"Default\", \"Default\", \"Default\", \"Default\", \"Default\", \"Default\", \"Default\", \"Default\", \"Default\", \"Default\", \"Default\", \"Default\", \"Default\", \"Default\", \"Default\", \"Default\", \"Default\", \"Default\", \"Default\", \"Default\", \"Default\", \"Default\", \"Topic1\", \"Topic1\", \"Topic1\", \"Topic1\", \"Topic1\", \"Topic1\", \"Topic1\", \"Topic1\", \"Topic1\", \"Topic1\", \"Topic1\", \"Topic1\", \"Topic1\", \"Topic1\", \"Topic1\", \"Topic1\", \"Topic1\", \"Topic1\", \"Topic1\", \"Topic1\", \"Topic1\", \"Topic1\", \"Topic1\", \"Topic1\", \"Topic1\", \"Topic1\", \"Topic1\", \"Topic1\", \"Topic1\", \"Topic1\", \"Topic1\", \"Topic2\", \"Topic2\", \"Topic2\", \"Topic2\", \"Topic2\", \"Topic2\", \"Topic2\", \"Topic2\", \"Topic2\", \"Topic2\", \"Topic2\", \"Topic2\", \"Topic2\", \"Topic2\", \"Topic2\", \"Topic2\", \"Topic2\", \"Topic2\", \"Topic2\", \"Topic2\", \"Topic2\", \"Topic2\", \"Topic2\", \"Topic2\", \"Topic2\", \"Topic2\", \"Topic2\", \"Topic2\", \"Topic2\", \"Topic2\", \"Topic2\", \"Topic3\", \"Topic3\", \"Topic3\", \"Topic3\", \"Topic3\", \"Topic3\", \"Topic3\", \"Topic3\", \"Topic3\", \"Topic3\", \"Topic3\", \"Topic3\", \"Topic3\", \"Topic3\", \"Topic3\", \"Topic3\", \"Topic3\", \"Topic3\", \"Topic3\", \"Topic3\", \"Topic3\", \"Topic3\", \"Topic3\", \"Topic3\", \"Topic3\", \"Topic3\", \"Topic3\", \"Topic3\", \"Topic3\", \"Topic3\", \"Topic3\", \"Topic3\", \"Topic3\", \"Topic4\", \"Topic4\", \"Topic4\", \"Topic4\", \"Topic4\", \"Topic4\", \"Topic4\", \"Topic4\", \"Topic4\", \"Topic4\", \"Topic4\", \"Topic4\", \"Topic4\", \"Topic4\", \"Topic4\", \"Topic4\", \"Topic4\", \"Topic4\", \"Topic4\", \"Topic4\", \"Topic4\", \"Topic4\", \"Topic4\", \"Topic4\", \"Topic4\", \"Topic4\", \"Topic4\", \"Topic4\", \"Topic4\", \"Topic4\", \"Topic4\", \"Topic4\"], \"logprob\": [30.0, 29.0, 28.0, 27.0, 26.0, 25.0, 24.0, 23.0, 22.0, 21.0, 20.0, 19.0, 18.0, 17.0, 16.0, 15.0, 14.0, 13.0, 12.0, 11.0, 10.0, 9.0, 8.0, 7.0, 6.0, 5.0, 4.0, 3.0, 2.0, 1.0, -3.3087000846862793, -3.3378000259399414, -3.4556000232696533, -3.7197000980377197, -3.7265000343322754, -3.763400077819824, -3.930000066757202, -4.10290002822876, -4.193299770355225, -4.307400226593018, -4.323400020599365, -4.310100078582764, -4.402299880981445, -4.3933000564575195, -4.412899971008301, -4.4984002113342285, -4.493899822235107, -4.543000221252441, -4.519999980926514, -4.572299957275391, -4.592299938201904, -4.821599960327148, -4.831399917602539, -4.864999771118164, -4.8927001953125, -4.941699981689453, -4.9822998046875, -5.045899868011475, -4.905399799346924, -4.985300064086914, -4.69890022277832, -1.9844000339508057, -3.3743999004364014, -3.5539000034332275, -3.6963999271392822, -3.6749000549316406, -3.978600025177002, -3.906399965286255, -4.029300212860107, -4.1528000831604, -4.237599849700928, -4.336299896240234, -4.390100002288818, -4.441400051116943, -4.4741997718811035, -4.516200065612793, -4.656899929046631, -4.671899795532227, -5.002799987792969, -4.928100109100342, -5.238699913024902, -5.217299938201904, -5.186699867248535, -5.231100082397461, -5.301000118255615, -5.383600234985352, -5.3769001960754395, -5.1803998947143555, -5.374899864196777, -5.38670015335083, -5.68779993057251, -5.383699893951416, -2.3313000202178955, -3.060699939727783, -3.369499921798706, -3.387700080871582, -3.424799919128418, -3.6187000274658203, -3.973900079727173, -4.1992998123168945, -4.2017998695373535, -4.294899940490723, -4.462699890136719, -4.510900020599365, -4.571599960327148, -4.919099807739258, -4.938700199127197, -4.991099834442139, -4.948200225830078, -4.941299915313721, -4.967100143432617, -4.955599784851074, -5.152599811553955, -5.250899791717529, -5.294600009918213, -5.291900157928467, -5.327400207519531, -5.357399940490723, -5.310400009155273, -5.367199897766113, -5.447999954223633, -5.600299835205078, -5.530700206756592, -5.138599872589111, -5.087299823760986, -1.9943000078201294, -2.9572999477386475, -3.6870999336242676, -4.035200119018555, -4.372300148010254, -4.426000118255615, -4.511000156402588, -4.528900146484375, -4.588399887084961, -4.612400054931641, -4.664899826049805, -4.7042999267578125, -4.776500225067139, -4.751399993896484, -4.835999965667725, -4.917699813842773, -4.926700115203857, -4.928199768066406, -4.981500148773193, -4.971799850463867, -5.014900207519531, -4.995299816131592, -5.022500038146973, -5.091000080108643, -4.938300132751465, -5.1402997970581055, -5.205699920654297, -5.1880998611450195, -5.23799991607666, -5.3007001876831055, -5.264500141143799, -3.8749001026153564], \"loglift\": [30.0, 29.0, 28.0, 27.0, 26.0, 25.0, 24.0, 23.0, 22.0, 21.0, 20.0, 19.0, 18.0, 17.0, 16.0, 15.0, 14.0, 13.0, 12.0, 11.0, 10.0, 9.0, 8.0, 7.0, 6.0, 5.0, 4.0, 3.0, 2.0, 1.0, 1.3324, 1.3323, 1.3322, 1.3319, 1.3319, 1.3318, 1.3315, 1.3312, 1.331, 1.3307, 1.3306, 1.3305, 1.3304, 1.3304, 1.3303, 1.3301, 1.33, 1.3299, 1.3299, 1.3298, 1.3297, 1.3288, 1.3286, 1.3285, 1.3284, 1.3283, 1.328, 1.3279, 1.3278, 1.3273, 1.3131, 2.0527, 2.0509, 2.0504, 2.0501, 2.05, 2.0491, 2.049, 2.0487, 2.0481, 2.0476, 2.0472, 2.0468, 2.0465, 2.0462, 2.0453, 2.045, 2.0447, 2.0415, 2.0408, 2.0382, 2.0381, 2.0377, 2.0373, 2.0366, 2.0356, 2.0354, 2.0349, 2.0329, 2.0328, 2.031, 1.981, 1.6657, 1.6652, 1.6648, 1.6647, 1.6646, 1.6643, 1.6635, 1.6628, 1.6628, 1.6624, 1.6617, 1.6616, 1.6612, 1.6592, 1.6592, 1.6589, 1.6589, 1.6588, 1.6587, 1.6584, 1.6569, 1.6563, 1.6562, 1.6559, 1.6558, 1.6554, 1.6545, 1.6545, 1.6542, 1.6525, 1.6521, 0.1976, -0.6392, 0.8694, 0.8691, 0.8686, 0.8682, 0.8677, 0.8676, 0.8675, 0.8674, 0.8673, 0.8671, 0.8671, 0.867, 0.8668, 0.8668, 0.8666, 0.8664, 0.8663, 0.8663, 0.8662, 0.8662, 0.8661, 0.866, 0.8658, 0.8657, 0.8656, 0.8656, 0.8654, 0.8653, 0.8652, 0.865, 0.8645, 0.5732]}, \"token.table\": {\"Topic\": [4, 1, 2, 3, 4, 2, 2, 4, 3, 2, 2, 1, 2, 4, 4, 1, 2, 2, 3, 3, 1, 2, 2, 3, 1, 1, 3, 1, 2, 3, 3, 4, 4, 3, 1, 2, 3, 4, 2, 3, 4, 2, 3, 1, 3, 3, 2, 4, 1, 4, 4, 4, 4, 3, 4, 1, 2, 3, 1, 4, 1, 4, 3, 1, 1, 2, 1, 1, 4, 3, 1, 3, 4, 3, 1, 2, 1, 2, 3, 4, 3, 2, 3, 2, 2, 3, 3, 4, 1, 1, 3, 1, 1, 2, 1, 3, 3, 4, 3, 4, 2, 2, 1, 1, 2, 4, 1, 2, 3, 4, 4, 4, 2, 3, 1, 4, 1, 2, 1, 2, 4, 3, 3, 1, 4, 4, 3, 2, 4, 4, 1, 2, 4, 1, 2, 3, 4, 2], \"Freq\": [0.9998739873236187, 0.1394729585257009, 0.01829153554435422, 0.09946022452242606, 0.7430936314893901, 0.9825345557864645, 0.996360277188455, 0.9984129095138509, 0.9915263095884665, 0.995442966453572, 0.9908164910363704, 0.9965370292410316, 0.9935959505934304, 0.9946651646725764, 0.9960276811001701, 0.9979414635374774, 0.9977024381144909, 0.9814101358366188, 0.9912008325506605, 0.9944778034181698, 0.9960377802795731, 0.9784755991538711, 0.9990666112605261, 0.9997928024960366, 0.9958818543194942, 0.9959505064793456, 0.9915492564693528, 0.9981737943558328, 0.9961382480674624, 0.9984842934332228, 0.9945589112784592, 0.9964070385203245, 0.9936634461428272, 0.9979699267974099, 0.27231771987189884, 0.05835379711540689, 0.23063643621803676, 0.4390428544873471, 0.9704953254723634, 0.9886261445765396, 0.9966056926770582, 0.9930603237049644, 0.9894484857050762, 0.9955586966037587, 0.9967128250196454, 0.994008961578012, 0.9899321215467438, 0.9934036898581056, 0.9984118186905043, 0.99425621960973, 0.9971444674212966, 0.9995317599926957, 0.9965884130015443, 0.9989384737560776, 0.9969750615071274, 0.995641349973726, 0.9868597711760974, 0.9943361893734565, 0.9992940166133815, 0.9959490321917738, 0.9979387950062956, 0.9969803132522688, 0.987217755654858, 0.999213971917742, 0.9943029045891082, 0.9816091133205727, 0.9955897204258756, 0.9989857688084098, 0.9979854430500638, 0.9822465845582787, 0.9986078530777781, 0.9932361915958903, 0.9933205514860665, 0.9986870276055646, 0.9984164581264302, 0.9967816906199973, 0.9776785807165448, 0.005461891512382931, 0.005461891512382931, 0.010923783024765862, 0.9888791777341018, 0.9960618384504859, 0.9985692767396755, 0.9749092163500558, 0.997843012068479, 0.9895033539803973, 0.990374044886326, 0.9974418386569625, 0.9936645418772658, 0.9977603812612299, 0.9953294695413475, 0.9976230483391508, 0.9980738732660132, 0.9812074371626399, 0.9987550574088497, 0.9862848812095153, 0.9910693639198622, 0.9974880324976932, 0.9962639955462654, 0.9974118086760152, 0.9868461117007129, 0.963217136706568, 0.997369969032552, 0.9948694940723445, 0.9976896460995167, 0.9962122752185563, 0.02112527889779233, 0.9295122715028625, 0.02112527889779233, 0.02112527889779233, 0.9984058232760319, 0.9973216224807991, 0.9933301605067123, 0.9991867526068995, 0.9984317712323059, 0.9973430632630141, 0.9968513362580128, 0.9818869791297322, 0.9963881274088956, 0.991448308867414, 0.9959691376212888, 0.9955529263860493, 0.9980786827162131, 0.9959303381501347, 0.9985070520379989, 0.9986313532463416, 0.9924972020585459, 0.996298823777658, 0.9958841843680397, 0.9980614695024569, 0.9954229703767802, 0.9847994202388032, 0.9994171957081501, 0.9988897705730011, 0.9943752683379156, 0.9911306815857629, 0.9989129313206538, 0.9941682709333297], \"Term\": [\"\", \"aa\", \"aa\", \"aa\", \"aa\", \"address\", \"agent\", \"agents\", \"airlines\", \"airport\", \"another\", \"answer\", \"arrive\", \"available\", \"bad\", \"bag\", \"baggage\", \"be\", \"best\", \"board\", \"book\", \"break\", \"call\", \"cancel\", \"change\", \"check\", \"communication\", \"could\", \"crew\", \"customer\", \"customers\", \"day\", \"days\", \"delay\", \"dfw\", \"dfw\", \"dfw\", \"dfw\", \"direct\", \"do\", \"due\", \"email\", \"employees\", \"even\", \"ever\", \"experience\", \"find\", \"first\", \"flight\", \"flt\", \"gate\", \"get\", \"give\", \"go\", \"guy\", \"hang\", \"hear\", \"help\", \"hold\", \"home\", \"hour\", \"hrs\", \"ill\", \"im\", \"info\", \"isnt\", \"issue\", \"ive\", \"jfk\", \"job\", \"keep\", \"land\", \"last\", \"late\", \"leave\", \"line\", \"load\", \"load\", \"load\", \"load\", \"long\", \"luggage\", \"make\", \"message\", \"miss\", \"money\", \"need\", \"next\", \"nothing\", \"number\", \"offer\", \"one\", \"online\", \"passenger\", \"phone\", \"pilot\", \"poor\", \"put\", \"rebook\", \"rebooked\", \"receive\", \"rep\", \"reservation\", \"reservations\", \"response\", \"rude\", \"san\", \"san\", \"san\", \"san\", \"say\", \"seat\", \"send\", \"service\", \"since\", \"sit\", \"someone\", \"st\", \"staff\", \"status\", \"stick\", \"strand\", \"system\", \"team\", \"ticket\", \"time\", \"travel\", \"try\", \"two\", \"u\", \"use\", \"via\", \"wait\", \"way\", \"website\", \"well\", \"would\", \"yet\"]}, \"R\": 30, \"lambda.step\": 0.01, \"plot.opts\": {\"xlab\": \"PC1\", \"ylab\": \"PC2\"}, \"topic.order\": [1, 2, 3, 4]};\n\nfunction LDAvis_load_lib(url, callback){\n  var s = document.createElement('script');\n  s.src = url;\n  s.async = true;\n  s.onreadystatechange = s.onload = callback;\n  s.onerror = function(){console.warn(\"failed to load library \" + url);};\n  document.getElementsByTagName(\"head\")[0].appendChild(s);\n}\n\nif(typeof(LDAvis) !== \"undefined\"){\n   // already loaded: just create the visualization\n   !function(LDAvis){\n       new LDAvis(\"#\" + \"ldavis_el458031402747134318882124656377\", ldavis_el458031402747134318882124656377_data);\n   }(LDAvis);\n}else if(typeof define === \"function\" && define.amd){\n   // require.js is available: use it to load d3/LDAvis\n   require.config({paths: {d3: \"https://cdnjs.cloudflare.com/ajax/libs/d3/3.5.5/d3.min\"}});\n   require([\"d3\"], function(d3){\n      window.d3 = d3;\n      LDAvis_load_lib(\"https://cdn.rawgit.com/bmabey/pyLDAvis/files/ldavis.v1.0.0.js\", function(){\n        new LDAvis(\"#\" + \"ldavis_el458031402747134318882124656377\", ldavis_el458031402747134318882124656377_data);\n      });\n    });\n}else{\n    // require.js not available: dynamically load d3 & LDAvis\n    LDAvis_load_lib(\"https://cdnjs.cloudflare.com/ajax/libs/d3/3.5.5/d3.min.js\", function(){\n         LDAvis_load_lib(\"https://cdn.rawgit.com/bmabey/pyLDAvis/files/ldavis.v1.0.0.js\", function(){\n                 new LDAvis(\"#\" + \"ldavis_el458031402747134318882124656377\", ldavis_el458031402747134318882124656377_data);\n            })\n         });\n}\n</script>"
     },
     "metadata": {},
     "execution_count": 31
    }
   ],
   "source": [
    "\n",
    "import pyLDAvis\n",
    "from pyLDAvis import gensim\n",
    "pyLDAvis.enable_notebook()\n",
    "vis = pyLDAvis.gensim.prepare(lda_model, corpus, id2word,sort_topics=False)\n",
    "vis"
   ]
  },
  {
   "cell_type": "code",
   "execution_count": null,
   "metadata": {},
   "outputs": [],
   "source": []
  }
 ]
}