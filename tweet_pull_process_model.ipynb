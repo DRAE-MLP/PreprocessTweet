{
 "cells": [
  {
   "cell_type": "code",
   "execution_count": 1,
   "metadata": {},
<<<<<<< HEAD
   "outputs": [],
   "source": [
    "import pandas as pd"
=======
   "outputs": [
    {
     "name": "stdout",
     "output_type": "stream",
     "text": [
      "succesfull trial\n"
     ]
    }
   ],
   "source": [
<<<<<<< HEAD
    "tweets_processed.classify_text(y_column = 'flag',classifier = nb_clf, model_name='Naive_Bayes', strategy='wc', ngrams = (1,3))"
>>>>>>> 8636e3e4a546b2732ffb6944c9801c52f8813343
=======
    "print('succesfull trial')"
>>>>>>> parent of 8636e3e... first_trial
   ]
  },
  {
   "source": [
    "# Import data"
   ],
   "cell_type": "markdown",
   "metadata": {}
  },
  {
   "cell_type": "code",
<<<<<<< HEAD
<<<<<<< HEAD
   "execution_count": null,
   "metadata": {},
   "outputs": [],
   "source": [
    "bucket = 'tweets-hackoff'\n",
    "data_key = 'Tweets.csv'\n",
    "data_location = 's3://()/()'.format(bucket, data_key)\n",
    "df = pd.read_csv(data_location)\n",
    "df"
=======
   "execution_count": 22,
=======
   "execution_count": 1,
>>>>>>> parent of 8636e3e... first_trial
   "metadata": {},
   "outputs": [
    {
     "name": "stdout",
     "output_type": "stream",
     "text": [
      "hola chito!\n"
     ]
    }
   ],
   "source": [
<<<<<<< HEAD
    "tweets_processed.classify_text(y_column = 'flag',classifier = nb_clf, model_name='Naive_Bayes', strategy='tfidf', ngrams = (1,3))"
>>>>>>> 8636e3e4a546b2732ffb6944c9801c52f8813343
=======
    "print('hola chito!')"
>>>>>>> parent of 8636e3e... first_trial
   ]
  },
  {
   "cell_type": "code",
   "execution_count": null,
   "metadata": {},
   "outputs": [],
   "source": []
  }
 ],
 "metadata": {
  "kernelspec": {
<<<<<<< HEAD
   "name": "python3",
<<<<<<< HEAD
   "display_name": "Python 3.7.4 64-bit (conda)",
   "metadata": {
    "interpreter": {
     "hash": "1c806136200b0eca212bee46925cab97b1df6a3bae2401ff46da3aaaf2e1deb3"
=======
   "display_name": "Python 3.7.6 64-bit ('base': conda)",
   "metadata": {
    "interpreter": {
     "hash": "9128dd7abc6f2bcca1f1110752e321c48fea6a9df3aaa3ae665d5777c27b5d48"
>>>>>>> 8636e3e4a546b2732ffb6944c9801c52f8813343
    }
   }
=======
   "display_name": "conda_python3",
   "language": "python",
   "name": "conda_python3"
>>>>>>> parent of 8636e3e... first_trial
  },
  "language_info": {
   "codemirror_mode": {
    "name": "ipython",
    "version": 3
   },
   "file_extension": ".py",
   "mimetype": "text/x-python",
   "name": "python",
   "nbconvert_exporter": "python",
   "pygments_lexer": "ipython3",
<<<<<<< HEAD
<<<<<<< HEAD
   "version": "3.7.4-final"
=======
   "version": "3.7.6-final"
>>>>>>> 8636e3e4a546b2732ffb6944c9801c52f8813343
=======
   "version": "3.6.10"
>>>>>>> parent of 8636e3e... first_trial
  }
 },
 "nbformat": 4,
 "nbformat_minor": 4
}
