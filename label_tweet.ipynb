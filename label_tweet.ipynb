{
 "cells": [
  {
   "cell_type": "markdown",
   "metadata": {},
   "source": [
    "# Negative Comments Classification"
   ]
  },
  {
   "cell_type": "markdown",
   "metadata": {},
   "source": [
    "## Importing Data"
   ]
  },
  {
   "cell_type": "code",
   "execution_count": 1,
   "metadata": {},
   "outputs": [],
   "source": [
    "import pandas as pd\n",
    "import numpy as np\n",
    "\n",
    "import re\n",
    "#import nltk\n",
    "#nltk.download('vader_lexicon')\n",
    "from nltk.sentiment.vader import SentimentIntensityAnalyzer"
   ]
  },
  {
   "cell_type": "code",
   "execution_count": 2,
   "metadata": {},
   "outputs": [],
   "source": [
    "df = pd.read_csv(\"G:/Shared drives/Unidad Compartida Pachitos/Data Science Projects Pachitos/HackOff-CompanySentiments/archive (2)/Tweets.csv\")\n",
    "df.drop(['tweet_id','airline_sentiment_confidence','negativereason','negativereason_confidence','airline_sentiment_gold','name','negativereason_gold','retweet_count',\n",
    "'tweet_coord','tweet_created','tweet_location','user_timezone','airline'], axis = 1, inplace = True)\n",
    "df = df.rename(columns = {'airline_sentiment':'original'})"
   ]
  },
  {
   "cell_type": "code",
   "execution_count": null,
   "metadata": {},
   "outputs": [],
   "source": [
    "#data_location = 's3://tweets-hackoff2/Tweets.csv'\n",
    "#df = pd.read_csv(data_location)\n",
    "#df"
   ]
  },
  {
   "cell_type": "code",
   "execution_count": 5,
   "metadata": {},
   "outputs": [],
   "source": [
    "class SentimentAnalysisTweets():\n",
    "\n",
    "    def __init__(self, df, column_name):\n",
    "        self.tweets_ = df\n",
    "        self.sid_ = SentimentIntensityAnalyzer()\n",
    "\n",
    "        self.preprocess(column_name)\n",
    "\n",
    "    def preprocess(self, column_name):\n",
    "        self.tweets_['tweets_clean'] = self.tweets_.apply(lambda row: self.clean_text(row[column_name]), axis=1)\n",
    "\n",
    "        return self\n",
    "\n",
    "    def clean_text(self, observation):\n",
    "        \n",
    "        observation = re.sub(r'[^\\$\\w\\s]', '', str(observation).lower().strip())\n",
    "        observation = re.sub(r'^RT[\\s]+', '', observation)\n",
    "        observation = re.sub(r'https?:\\/\\/.*[\\r\\n]*', '', observation) # removing hyperlinks\n",
    "        observation = re.sub(r'#', '', observation) #removing hash # sign\n",
    "\n",
    "        return observation\n",
    "\n",
    "    def create_label(self):\n",
    "        self.tweets_['sentiment'] = self.tweets_.apply(lambda row: self.sid_.polarity_scores(row['text']), axis=1)\n",
    "        self.tweets_['flag'] = self.tweets_['sentiment'].apply(lambda row: 'positive' if row.get('compound') >= 0 else 'negative')\n",
    "\n",
    "        return self"
   ]
  },
  {
   "cell_type": "code",
   "execution_count": 6,
   "metadata": {},
   "outputs": [],
   "source": [
    "tweet_class = SentimentAnalysisTweets(df, column_name='text')"
   ]
  },
  {
   "cell_type": "code",
   "execution_count": 7,
   "metadata": {},
   "outputs": [
    {
     "output_type": "execute_result",
     "data": {
      "text/plain": [
       "<__main__.SentimentAnalysisTweets at 0x1e7c26cd2c8>"
      ]
     },
     "metadata": {},
     "execution_count": 7
    }
   ],
   "source": [
    "tweet_class.create_label()"
   ]
  },
  {
   "cell_type": "code",
   "execution_count": 8,
   "metadata": {},
   "outputs": [],
   "source": [
    "df_label = pd.DataFrame()\n",
    "df_label['text'] = tweet_class.tweets_.loc[(tweet_class.tweets_['flag'] == 'negative'),'text']\n",
    "df_label.to_csv('label_tweets.csv', index=False)"
   ]
  },
  {
   "cell_type": "code",
   "execution_count": null,
   "metadata": {},
   "outputs": [],
   "source": []
  }
 ],
 "metadata": {
  "kernelspec": {
   "name": "python3",
   "display_name": "Python 3",
   "language": "python"
  },
  "language_info": {
   "codemirror_mode": {
    "name": "ipython",
    "version": 3
   },
   "file_extension": ".py",
   "mimetype": "text/x-python",
   "name": "python",
   "nbconvert_exporter": "python",
   "pygments_lexer": "ipython3",
   "version": "3.7.4-final"
  }
 },
 "nbformat": 4,
 "nbformat_minor": 4
}